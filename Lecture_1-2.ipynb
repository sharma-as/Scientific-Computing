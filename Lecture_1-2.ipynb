{
 "cells": [
  {
   "cell_type": "markdown",
   "id": "7aa03373-a653-454b-9f89-5257194bf953",
   "metadata": {},
   "source": [
    "# Core Python\n",
    "\n",
    "## Variables\n",
    "In most computer languages the name of a variable reprsents a value of a given type stored in a fixed memory location. The value may be changed, but not the type. This is not so in Python, where variables are *typed dynamically*."
   ]
  },
  {
   "cell_type": "code",
   "execution_count": null,
   "id": "32e468ed-c132-41d3-b366-d3d4e1cac0ae",
   "metadata": {},
   "outputs": [],
   "source": [
    "x = 2 # x is an integer type"
   ]
  },
  {
   "cell_type": "code",
   "execution_count": 102,
   "id": "dfe634a4-318a-4528-bd1f-31518d22a1b0",
   "metadata": {},
   "outputs": [
    {
     "data": {
      "text/plain": [
       "int"
      ]
     },
     "execution_count": 102,
     "metadata": {},
     "output_type": "execute_result"
    }
   ],
   "source": [
    "type(x)"
   ]
  },
  {
   "cell_type": "code",
   "execution_count": 103,
   "id": "e5f581ef-46a3-431d-87b1-ab8d41615863",
   "metadata": {},
   "outputs": [
    {
     "name": "stdout",
     "output_type": "stream",
     "text": [
      "Help on class type in module builtins:\n",
      "\n",
      "class type(object)\n",
      " |  type(object) -> the object's type\n",
      " |  type(name, bases, dict, **kwds) -> a new type\n",
      " |\n",
      " |  Methods defined here:\n",
      " |\n",
      " |  __call__(self, /, *args, **kwargs)\n",
      " |      Call self as a function.\n",
      " |\n",
      " |  __delattr__(self, name, /)\n",
      " |      Implement delattr(self, name).\n",
      " |\n",
      " |  __dir__(self, /)\n",
      " |      Specialized __dir__ implementation for types.\n",
      " |\n",
      " |  __getattribute__(self, name, /)\n",
      " |      Return getattr(self, name).\n",
      " |\n",
      " |  __init__(self, /, *args, **kwargs)\n",
      " |      Initialize self.  See help(type(self)) for accurate signature.\n",
      " |\n",
      " |  __instancecheck__(self, instance, /)\n",
      " |      Check if an object is an instance.\n",
      " |\n",
      " |  __or__(self, value, /)\n",
      " |      Return self|value.\n",
      " |\n",
      " |  __repr__(self, /)\n",
      " |      Return repr(self).\n",
      " |\n",
      " |  __ror__(self, value, /)\n",
      " |      Return value|self.\n",
      " |\n",
      " |  __setattr__(self, name, value, /)\n",
      " |      Implement setattr(self, name, value).\n",
      " |\n",
      " |  __sizeof__(self, /)\n",
      " |      Return memory consumption of the type object.\n",
      " |\n",
      " |  __subclasscheck__(self, subclass, /)\n",
      " |      Check if a class is a subclass.\n",
      " |\n",
      " |  __subclasses__(self, /)\n",
      " |      Return a list of immediate subclasses.\n",
      " |\n",
      " |  mro(self, /)\n",
      " |      Return a type's method resolution order.\n",
      " |\n",
      " |  ----------------------------------------------------------------------\n",
      " |  Class methods defined here:\n",
      " |\n",
      " |  __prepare__(...)\n",
      " |      __prepare__() -> dict\n",
      " |      used to create the namespace for the class statement\n",
      " |\n",
      " |  ----------------------------------------------------------------------\n",
      " |  Static methods defined here:\n",
      " |\n",
      " |  __new__(*args, **kwargs)\n",
      " |      Create and return a new object.  See help(type) for accurate signature.\n",
      " |\n",
      " |  ----------------------------------------------------------------------\n",
      " |  Data descriptors defined here:\n",
      " |\n",
      " |  __abstractmethods__\n",
      " |\n",
      " |  __annotations__\n",
      " |\n",
      " |  __dict__\n",
      " |\n",
      " |  __text_signature__\n",
      " |\n",
      " |  ----------------------------------------------------------------------\n",
      " |  Data and other attributes defined here:\n",
      " |\n",
      " |  __base__ = <class 'object'>\n",
      " |      The base class of the class hierarchy.\n",
      " |\n",
      " |      When called, it accepts no arguments and returns a new featureless\n",
      " |      instance that has no instance attributes and cannot be given any.\n",
      " |\n",
      " |\n",
      " |  __bases__ = (<class 'object'>,)\n",
      " |\n",
      " |  __basicsize__ = 920\n",
      " |\n",
      " |  __dictoffset__ = 264\n",
      " |\n",
      " |  __flags__ = 2156420354\n",
      " |\n",
      " |  __itemsize__ = 40\n",
      " |\n",
      " |  __mro__ = (<class 'type'>, <class 'object'>)\n",
      " |\n",
      " |  __type_params__ = ()\n",
      " |\n",
      " |  __weakrefoffset__ = 368\n",
      "\n"
     ]
    }
   ],
   "source": [
    "help(type)"
   ]
  },
  {
   "cell_type": "code",
   "execution_count": 104,
   "id": "442a50bb-a92e-4234-aca7-8c759fa8887a",
   "metadata": {},
   "outputs": [
    {
     "data": {
      "text/plain": [
       "2"
      ]
     },
     "execution_count": 104,
     "metadata": {},
     "output_type": "execute_result"
    }
   ],
   "source": [
    "x # Read operation"
   ]
  },
  {
   "cell_type": "code",
   "execution_count": 105,
   "id": "d4134563-f2d3-4082-bf20-bb84f62634b2",
   "metadata": {},
   "outputs": [
    {
     "data": {
      "text/plain": [
       "140717825341912"
      ]
     },
     "execution_count": 105,
     "metadata": {},
     "output_type": "execute_result"
    }
   ],
   "source": [
    "id(x)"
   ]
  },
  {
   "cell_type": "code",
   "execution_count": 106,
   "id": "62eff17f-1ccf-4eb0-b920-9d97ade07488",
   "metadata": {},
   "outputs": [],
   "source": [
    "x = 3 # Write operation"
   ]
  },
  {
   "cell_type": "code",
   "execution_count": 107,
   "id": "a40dcecb-bc04-40f0-8256-47464f83e37c",
   "metadata": {},
   "outputs": [
    {
     "data": {
      "text/plain": [
       "3"
      ]
     },
     "execution_count": 107,
     "metadata": {},
     "output_type": "execute_result"
    }
   ],
   "source": [
    "x"
   ]
  },
  {
   "cell_type": "code",
   "execution_count": 108,
   "id": "25efe58f-93b4-4eca-ad04-0e51eb4c495f",
   "metadata": {},
   "outputs": [
    {
     "data": {
      "text/plain": [
       "140717825341944"
      ]
     },
     "execution_count": 108,
     "metadata": {},
     "output_type": "execute_result"
    }
   ],
   "source": [
    "id(x)"
   ]
  },
  {
   "cell_type": "code",
   "execution_count": 109,
   "id": "74370a37-23f9-49ca-aa3e-61eae6c70abc",
   "metadata": {},
   "outputs": [
    {
     "name": "stdout",
     "output_type": "stream",
     "text": [
      "140717825341912\n",
      "140717825341912\n",
      "140717825341944\n"
     ]
    }
   ],
   "source": [
    "a = 2\n",
    "print(id(a))\n",
    "b = a\n",
    "print(id(b))\n",
    "a = 3\n",
    "print(id(a))"
   ]
  },
  {
   "cell_type": "code",
   "execution_count": 110,
   "id": "b6a191f8-e16f-470b-a6e5-a75b086aa961",
   "metadata": {},
   "outputs": [
    {
     "data": {
      "text/plain": [
       "2"
      ]
     },
     "execution_count": 110,
     "metadata": {},
     "output_type": "execute_result"
    }
   ],
   "source": [
    "b"
   ]
  },
  {
   "cell_type": "code",
   "execution_count": 111,
   "id": "b22355d1-d8c4-4f33-8a88-508f89ce471b",
   "metadata": {},
   "outputs": [
    {
     "data": {
      "text/plain": [
       "int"
      ]
     },
     "execution_count": 111,
     "metadata": {},
     "output_type": "execute_result"
    }
   ],
   "source": [
    "type(b)"
   ]
  },
  {
   "cell_type": "code",
   "execution_count": 112,
   "id": "675a7095-b0b3-4a41-8273-ca7df6e70bfb",
   "metadata": {},
   "outputs": [],
   "source": [
    "b = b*2.5 # 2.5 is a real value (float type)"
   ]
  },
  {
   "cell_type": "code",
   "execution_count": 113,
   "id": "5bf3d1d0-9681-4122-8171-5b484d039282",
   "metadata": {},
   "outputs": [
    {
     "data": {
      "text/plain": [
       "5.0"
      ]
     },
     "execution_count": 113,
     "metadata": {},
     "output_type": "execute_result"
    }
   ],
   "source": [
    "b"
   ]
  },
  {
   "cell_type": "code",
   "execution_count": 114,
   "id": "9612e1aa-de31-40d6-8931-d607300dff9e",
   "metadata": {},
   "outputs": [
    {
     "data": {
      "text/plain": [
       "float"
      ]
     },
     "execution_count": 114,
     "metadata": {},
     "output_type": "execute_result"
    }
   ],
   "source": [
    "type(b)"
   ]
  },
  {
   "cell_type": "markdown",
   "id": "0bb4b77f-6f68-4ebd-8baa-a8d316dd2c10",
   "metadata": {},
   "source": [
    "## Strings\n",
    "\n",
    "A string is a sequence of characters enclosed in single or double quotes."
   ]
  },
  {
   "cell_type": "code",
   "execution_count": 116,
   "id": "973c9132-4691-4517-b7e3-30ef048d08cf",
   "metadata": {},
   "outputs": [],
   "source": [
    "string1 = 'Press return to exit'\n",
    "string2 = \"the program\""
   ]
  },
  {
   "cell_type": "code",
   "execution_count": 117,
   "id": "6524dc3d-b315-4481-97e8-c32817f21ae1",
   "metadata": {},
   "outputs": [
    {
     "data": {
      "text/plain": [
       "'Press return to exitthe program'"
      ]
     },
     "execution_count": 117,
     "metadata": {},
     "output_type": "execute_result"
    }
   ],
   "source": [
    "string1 + string2 # Concatenation"
   ]
  },
  {
   "cell_type": "code",
   "execution_count": 118,
   "id": "0831265d-9e21-46c3-904d-b7cbec529c26",
   "metadata": {},
   "outputs": [
    {
     "data": {
      "text/plain": [
       "'Press return to exit the program'"
      ]
     },
     "execution_count": 118,
     "metadata": {},
     "output_type": "execute_result"
    }
   ],
   "source": [
    "string1 + \" \" + string2"
   ]
  },
  {
   "cell_type": "markdown",
   "id": "a74247fa-89d4-4722-a998-397b8c294e7e",
   "metadata": {},
   "source": [
    "**Extract a portion of the string**"
   ]
  },
  {
   "cell_type": "code",
   "execution_count": 120,
   "id": "1bdd03aa-7ad6-458c-bb04-ba804c81332a",
   "metadata": {},
   "outputs": [
    {
     "data": {
      "text/plain": [
       "'Press return'"
      ]
     },
     "execution_count": 120,
     "metadata": {},
     "output_type": "execute_result"
    }
   ],
   "source": [
    "string1[0:12]"
   ]
  },
  {
   "cell_type": "code",
   "execution_count": 121,
   "id": "06da6743-88a7-400d-a834-083be65a5b7a",
   "metadata": {},
   "outputs": [
    {
     "data": {
      "text/plain": [
       "'e'"
      ]
     },
     "execution_count": 121,
     "metadata": {},
     "output_type": "execute_result"
    }
   ],
   "source": [
    "string1[7]"
   ]
  },
  {
   "cell_type": "code",
   "execution_count": 122,
   "id": "00f47d7a-ea3f-4d28-8af3-e1fdd18cfa41",
   "metadata": {},
   "outputs": [],
   "source": [
    "s = '2 4 16'"
   ]
  },
  {
   "cell_type": "code",
   "execution_count": 123,
   "id": "dea73aa3-7d14-4f07-a7e7-c63f8952af19",
   "metadata": {},
   "outputs": [
    {
     "data": {
      "text/plain": [
       "'2 4 16'"
      ]
     },
     "execution_count": 123,
     "metadata": {},
     "output_type": "execute_result"
    }
   ],
   "source": [
    "s"
   ]
  },
  {
   "cell_type": "code",
   "execution_count": 124,
   "id": "522d7d3e-aeab-4f94-b236-7a34de4fb914",
   "metadata": {},
   "outputs": [
    {
     "name": "stdout",
     "output_type": "stream",
     "text": [
      "No Python documentation found for '2 4 16'.\n",
      "Use help() to get the interactive help utility.\n",
      "Use help(str) for help on the str class.\n",
      "\n"
     ]
    }
   ],
   "source": [
    "help(s)"
   ]
  },
  {
   "cell_type": "code",
   "execution_count": 125,
   "id": "3e9e53d9-a525-4ed7-8e00-ce45d7d8fb70",
   "metadata": {},
   "outputs": [
    {
     "name": "stdout",
     "output_type": "stream",
     "text": [
      "Help on class str in module builtins:\n",
      "\n",
      "class str(object)\n",
      " |  str(object='') -> str\n",
      " |  str(bytes_or_buffer[, encoding[, errors]]) -> str\n",
      " |\n",
      " |  Create a new string object from the given object. If encoding or\n",
      " |  errors is specified, then the object must expose a data buffer\n",
      " |  that will be decoded using the given encoding and error handler.\n",
      " |  Otherwise, returns the result of object.__str__() (if defined)\n",
      " |  or repr(object).\n",
      " |  encoding defaults to sys.getdefaultencoding().\n",
      " |  errors defaults to 'strict'.\n",
      " |\n",
      " |  Methods defined here:\n",
      " |\n",
      " |  __add__(self, value, /)\n",
      " |      Return self+value.\n",
      " |\n",
      " |  __contains__(self, key, /)\n",
      " |      Return bool(key in self).\n",
      " |\n",
      " |  __eq__(self, value, /)\n",
      " |      Return self==value.\n",
      " |\n",
      " |  __format__(self, format_spec, /)\n",
      " |      Return a formatted version of the string as described by format_spec.\n",
      " |\n",
      " |  __ge__(self, value, /)\n",
      " |      Return self>=value.\n",
      " |\n",
      " |  __getattribute__(self, name, /)\n",
      " |      Return getattr(self, name).\n",
      " |\n",
      " |  __getitem__(self, key, /)\n",
      " |      Return self[key].\n",
      " |\n",
      " |  __getnewargs__(...)\n",
      " |\n",
      " |  __gt__(self, value, /)\n",
      " |      Return self>value.\n",
      " |\n",
      " |  __hash__(self, /)\n",
      " |      Return hash(self).\n",
      " |\n",
      " |  __iter__(self, /)\n",
      " |      Implement iter(self).\n",
      " |\n",
      " |  __le__(self, value, /)\n",
      " |      Return self<=value.\n",
      " |\n",
      " |  __len__(self, /)\n",
      " |      Return len(self).\n",
      " |\n",
      " |  __lt__(self, value, /)\n",
      " |      Return self<value.\n",
      " |\n",
      " |  __mod__(self, value, /)\n",
      " |      Return self%value.\n",
      " |\n",
      " |  __mul__(self, value, /)\n",
      " |      Return self*value.\n",
      " |\n",
      " |  __ne__(self, value, /)\n",
      " |      Return self!=value.\n",
      " |\n",
      " |  __repr__(self, /)\n",
      " |      Return repr(self).\n",
      " |\n",
      " |  __rmod__(self, value, /)\n",
      " |      Return value%self.\n",
      " |\n",
      " |  __rmul__(self, value, /)\n",
      " |      Return value*self.\n",
      " |\n",
      " |  __sizeof__(self, /)\n",
      " |      Return the size of the string in memory, in bytes.\n",
      " |\n",
      " |  __str__(self, /)\n",
      " |      Return str(self).\n",
      " |\n",
      " |  capitalize(self, /)\n",
      " |      Return a capitalized version of the string.\n",
      " |\n",
      " |      More specifically, make the first character have upper case and the rest lower\n",
      " |      case.\n",
      " |\n",
      " |  casefold(self, /)\n",
      " |      Return a version of the string suitable for caseless comparisons.\n",
      " |\n",
      " |  center(self, width, fillchar=' ', /)\n",
      " |      Return a centered string of length width.\n",
      " |\n",
      " |      Padding is done using the specified fill character (default is a space).\n",
      " |\n",
      " |  count(...)\n",
      " |      S.count(sub[, start[, end]]) -> int\n",
      " |\n",
      " |      Return the number of non-overlapping occurrences of substring sub in\n",
      " |      string S[start:end].  Optional arguments start and end are\n",
      " |      interpreted as in slice notation.\n",
      " |\n",
      " |  encode(self, /, encoding='utf-8', errors='strict')\n",
      " |      Encode the string using the codec registered for encoding.\n",
      " |\n",
      " |      encoding\n",
      " |        The encoding in which to encode the string.\n",
      " |      errors\n",
      " |        The error handling scheme to use for encoding errors.\n",
      " |        The default is 'strict' meaning that encoding errors raise a\n",
      " |        UnicodeEncodeError.  Other possible values are 'ignore', 'replace' and\n",
      " |        'xmlcharrefreplace' as well as any other name registered with\n",
      " |        codecs.register_error that can handle UnicodeEncodeErrors.\n",
      " |\n",
      " |  endswith(...)\n",
      " |      S.endswith(suffix[, start[, end]]) -> bool\n",
      " |\n",
      " |      Return True if S ends with the specified suffix, False otherwise.\n",
      " |      With optional start, test S beginning at that position.\n",
      " |      With optional end, stop comparing S at that position.\n",
      " |      suffix can also be a tuple of strings to try.\n",
      " |\n",
      " |  expandtabs(self, /, tabsize=8)\n",
      " |      Return a copy where all tab characters are expanded using spaces.\n",
      " |\n",
      " |      If tabsize is not given, a tab size of 8 characters is assumed.\n",
      " |\n",
      " |  find(...)\n",
      " |      S.find(sub[, start[, end]]) -> int\n",
      " |\n",
      " |      Return the lowest index in S where substring sub is found,\n",
      " |      such that sub is contained within S[start:end].  Optional\n",
      " |      arguments start and end are interpreted as in slice notation.\n",
      " |\n",
      " |      Return -1 on failure.\n",
      " |\n",
      " |  format(...)\n",
      " |      S.format(*args, **kwargs) -> str\n",
      " |\n",
      " |      Return a formatted version of S, using substitutions from args and kwargs.\n",
      " |      The substitutions are identified by braces ('{' and '}').\n",
      " |\n",
      " |  format_map(...)\n",
      " |      S.format_map(mapping) -> str\n",
      " |\n",
      " |      Return a formatted version of S, using substitutions from mapping.\n",
      " |      The substitutions are identified by braces ('{' and '}').\n",
      " |\n",
      " |  index(...)\n",
      " |      S.index(sub[, start[, end]]) -> int\n",
      " |\n",
      " |      Return the lowest index in S where substring sub is found,\n",
      " |      such that sub is contained within S[start:end].  Optional\n",
      " |      arguments start and end are interpreted as in slice notation.\n",
      " |\n",
      " |      Raises ValueError when the substring is not found.\n",
      " |\n",
      " |  isalnum(self, /)\n",
      " |      Return True if the string is an alpha-numeric string, False otherwise.\n",
      " |\n",
      " |      A string is alpha-numeric if all characters in the string are alpha-numeric and\n",
      " |      there is at least one character in the string.\n",
      " |\n",
      " |  isalpha(self, /)\n",
      " |      Return True if the string is an alphabetic string, False otherwise.\n",
      " |\n",
      " |      A string is alphabetic if all characters in the string are alphabetic and there\n",
      " |      is at least one character in the string.\n",
      " |\n",
      " |  isascii(self, /)\n",
      " |      Return True if all characters in the string are ASCII, False otherwise.\n",
      " |\n",
      " |      ASCII characters have code points in the range U+0000-U+007F.\n",
      " |      Empty string is ASCII too.\n",
      " |\n",
      " |  isdecimal(self, /)\n",
      " |      Return True if the string is a decimal string, False otherwise.\n",
      " |\n",
      " |      A string is a decimal string if all characters in the string are decimal and\n",
      " |      there is at least one character in the string.\n",
      " |\n",
      " |  isdigit(self, /)\n",
      " |      Return True if the string is a digit string, False otherwise.\n",
      " |\n",
      " |      A string is a digit string if all characters in the string are digits and there\n",
      " |      is at least one character in the string.\n",
      " |\n",
      " |  isidentifier(self, /)\n",
      " |      Return True if the string is a valid Python identifier, False otherwise.\n",
      " |\n",
      " |      Call keyword.iskeyword(s) to test whether string s is a reserved identifier,\n",
      " |      such as \"def\" or \"class\".\n",
      " |\n",
      " |  islower(self, /)\n",
      " |      Return True if the string is a lowercase string, False otherwise.\n",
      " |\n",
      " |      A string is lowercase if all cased characters in the string are lowercase and\n",
      " |      there is at least one cased character in the string.\n",
      " |\n",
      " |  isnumeric(self, /)\n",
      " |      Return True if the string is a numeric string, False otherwise.\n",
      " |\n",
      " |      A string is numeric if all characters in the string are numeric and there is at\n",
      " |      least one character in the string.\n",
      " |\n",
      " |  isprintable(self, /)\n",
      " |      Return True if the string is printable, False otherwise.\n",
      " |\n",
      " |      A string is printable if all of its characters are considered printable in\n",
      " |      repr() or if it is empty.\n",
      " |\n",
      " |  isspace(self, /)\n",
      " |      Return True if the string is a whitespace string, False otherwise.\n",
      " |\n",
      " |      A string is whitespace if all characters in the string are whitespace and there\n",
      " |      is at least one character in the string.\n",
      " |\n",
      " |  istitle(self, /)\n",
      " |      Return True if the string is a title-cased string, False otherwise.\n",
      " |\n",
      " |      In a title-cased string, upper- and title-case characters may only\n",
      " |      follow uncased characters and lowercase characters only cased ones.\n",
      " |\n",
      " |  isupper(self, /)\n",
      " |      Return True if the string is an uppercase string, False otherwise.\n",
      " |\n",
      " |      A string is uppercase if all cased characters in the string are uppercase and\n",
      " |      there is at least one cased character in the string.\n",
      " |\n",
      " |  join(self, iterable, /)\n",
      " |      Concatenate any number of strings.\n",
      " |\n",
      " |      The string whose method is called is inserted in between each given string.\n",
      " |      The result is returned as a new string.\n",
      " |\n",
      " |      Example: '.'.join(['ab', 'pq', 'rs']) -> 'ab.pq.rs'\n",
      " |\n",
      " |  ljust(self, width, fillchar=' ', /)\n",
      " |      Return a left-justified string of length width.\n",
      " |\n",
      " |      Padding is done using the specified fill character (default is a space).\n",
      " |\n",
      " |  lower(self, /)\n",
      " |      Return a copy of the string converted to lowercase.\n",
      " |\n",
      " |  lstrip(self, chars=None, /)\n",
      " |      Return a copy of the string with leading whitespace removed.\n",
      " |\n",
      " |      If chars is given and not None, remove characters in chars instead.\n",
      " |\n",
      " |  partition(self, sep, /)\n",
      " |      Partition the string into three parts using the given separator.\n",
      " |\n",
      " |      This will search for the separator in the string.  If the separator is found,\n",
      " |      returns a 3-tuple containing the part before the separator, the separator\n",
      " |      itself, and the part after it.\n",
      " |\n",
      " |      If the separator is not found, returns a 3-tuple containing the original string\n",
      " |      and two empty strings.\n",
      " |\n",
      " |  removeprefix(self, prefix, /)\n",
      " |      Return a str with the given prefix string removed if present.\n",
      " |\n",
      " |      If the string starts with the prefix string, return string[len(prefix):].\n",
      " |      Otherwise, return a copy of the original string.\n",
      " |\n",
      " |  removesuffix(self, suffix, /)\n",
      " |      Return a str with the given suffix string removed if present.\n",
      " |\n",
      " |      If the string ends with the suffix string and that suffix is not empty,\n",
      " |      return string[:-len(suffix)]. Otherwise, return a copy of the original\n",
      " |      string.\n",
      " |\n",
      " |  replace(self, old, new, count=-1, /)\n",
      " |      Return a copy with all occurrences of substring old replaced by new.\n",
      " |\n",
      " |        count\n",
      " |          Maximum number of occurrences to replace.\n",
      " |          -1 (the default value) means replace all occurrences.\n",
      " |\n",
      " |      If the optional argument count is given, only the first count occurrences are\n",
      " |      replaced.\n",
      " |\n",
      " |  rfind(...)\n",
      " |      S.rfind(sub[, start[, end]]) -> int\n",
      " |\n",
      " |      Return the highest index in S where substring sub is found,\n",
      " |      such that sub is contained within S[start:end].  Optional\n",
      " |      arguments start and end are interpreted as in slice notation.\n",
      " |\n",
      " |      Return -1 on failure.\n",
      " |\n",
      " |  rindex(...)\n",
      " |      S.rindex(sub[, start[, end]]) -> int\n",
      " |\n",
      " |      Return the highest index in S where substring sub is found,\n",
      " |      such that sub is contained within S[start:end].  Optional\n",
      " |      arguments start and end are interpreted as in slice notation.\n",
      " |\n",
      " |      Raises ValueError when the substring is not found.\n",
      " |\n",
      " |  rjust(self, width, fillchar=' ', /)\n",
      " |      Return a right-justified string of length width.\n",
      " |\n",
      " |      Padding is done using the specified fill character (default is a space).\n",
      " |\n",
      " |  rpartition(self, sep, /)\n",
      " |      Partition the string into three parts using the given separator.\n",
      " |\n",
      " |      This will search for the separator in the string, starting at the end. If\n",
      " |      the separator is found, returns a 3-tuple containing the part before the\n",
      " |      separator, the separator itself, and the part after it.\n",
      " |\n",
      " |      If the separator is not found, returns a 3-tuple containing two empty strings\n",
      " |      and the original string.\n",
      " |\n",
      " |  rsplit(self, /, sep=None, maxsplit=-1)\n",
      " |      Return a list of the substrings in the string, using sep as the separator string.\n",
      " |\n",
      " |        sep\n",
      " |          The separator used to split the string.\n",
      " |\n",
      " |          When set to None (the default value), will split on any whitespace\n",
      " |          character (including \\n \\r \\t \\f and spaces) and will discard\n",
      " |          empty strings from the result.\n",
      " |        maxsplit\n",
      " |          Maximum number of splits.\n",
      " |          -1 (the default value) means no limit.\n",
      " |\n",
      " |      Splitting starts at the end of the string and works to the front.\n",
      " |\n",
      " |  rstrip(self, chars=None, /)\n",
      " |      Return a copy of the string with trailing whitespace removed.\n",
      " |\n",
      " |      If chars is given and not None, remove characters in chars instead.\n",
      " |\n",
      " |  split(self, /, sep=None, maxsplit=-1)\n",
      " |      Return a list of the substrings in the string, using sep as the separator string.\n",
      " |\n",
      " |        sep\n",
      " |          The separator used to split the string.\n",
      " |\n",
      " |          When set to None (the default value), will split on any whitespace\n",
      " |          character (including \\n \\r \\t \\f and spaces) and will discard\n",
      " |          empty strings from the result.\n",
      " |        maxsplit\n",
      " |          Maximum number of splits.\n",
      " |          -1 (the default value) means no limit.\n",
      " |\n",
      " |      Splitting starts at the front of the string and works to the end.\n",
      " |\n",
      " |      Note, str.split() is mainly useful for data that has been intentionally\n",
      " |      delimited.  With natural text that includes punctuation, consider using\n",
      " |      the regular expression module.\n",
      " |\n",
      " |  splitlines(self, /, keepends=False)\n",
      " |      Return a list of the lines in the string, breaking at line boundaries.\n",
      " |\n",
      " |      Line breaks are not included in the resulting list unless keepends is given and\n",
      " |      true.\n",
      " |\n",
      " |  startswith(...)\n",
      " |      S.startswith(prefix[, start[, end]]) -> bool\n",
      " |\n",
      " |      Return True if S starts with the specified prefix, False otherwise.\n",
      " |      With optional start, test S beginning at that position.\n",
      " |      With optional end, stop comparing S at that position.\n",
      " |      prefix can also be a tuple of strings to try.\n",
      " |\n",
      " |  strip(self, chars=None, /)\n",
      " |      Return a copy of the string with leading and trailing whitespace removed.\n",
      " |\n",
      " |      If chars is given and not None, remove characters in chars instead.\n",
      " |\n",
      " |  swapcase(self, /)\n",
      " |      Convert uppercase characters to lowercase and lowercase characters to uppercase.\n",
      " |\n",
      " |  title(self, /)\n",
      " |      Return a version of the string where each word is titlecased.\n",
      " |\n",
      " |      More specifically, words start with uppercased characters and all remaining\n",
      " |      cased characters have lower case.\n",
      " |\n",
      " |  translate(self, table, /)\n",
      " |      Replace each character in the string using the given translation table.\n",
      " |\n",
      " |        table\n",
      " |          Translation table, which must be a mapping of Unicode ordinals to\n",
      " |          Unicode ordinals, strings, or None.\n",
      " |\n",
      " |      The table must implement lookup/indexing via __getitem__, for instance a\n",
      " |      dictionary or list.  If this operation raises LookupError, the character is\n",
      " |      left untouched.  Characters mapped to None are deleted.\n",
      " |\n",
      " |  upper(self, /)\n",
      " |      Return a copy of the string converted to uppercase.\n",
      " |\n",
      " |  zfill(self, width, /)\n",
      " |      Pad a numeric string with zeros on the left, to fill a field of the given width.\n",
      " |\n",
      " |      The string is never truncated.\n",
      " |\n",
      " |  ----------------------------------------------------------------------\n",
      " |  Static methods defined here:\n",
      " |\n",
      " |  __new__(*args, **kwargs)\n",
      " |      Create and return a new object.  See help(type) for accurate signature.\n",
      " |\n",
      " |  maketrans(...)\n",
      " |      Return a translation table usable for str.translate().\n",
      " |\n",
      " |      If there is only one argument, it must be a dictionary mapping Unicode\n",
      " |      ordinals (integers) or characters to Unicode ordinals, strings or None.\n",
      " |      Character keys will be then converted to ordinals.\n",
      " |      If there are two arguments, they must be strings of equal length, and\n",
      " |      in the resulting dictionary, each character in x will be mapped to the\n",
      " |      character at the same position in y. If there is a third argument, it\n",
      " |      must be a string, whose characters will be mapped to None in the result.\n",
      "\n"
     ]
    }
   ],
   "source": [
    "help(str)"
   ]
  },
  {
   "cell_type": "code",
   "execution_count": 126,
   "id": "bf04e8a8-18ec-4a65-ada3-d61d9e1919c0",
   "metadata": {},
   "outputs": [
    {
     "data": {
      "text/plain": [
       "'Press return to exitthe program'"
      ]
     },
     "execution_count": 126,
     "metadata": {},
     "output_type": "execute_result"
    }
   ],
   "source": [
    "string1.__add__(string2)"
   ]
  },
  {
   "cell_type": "code",
   "execution_count": 127,
   "id": "cf6a949a-3d1c-4eda-a51a-934e1bc56cac",
   "metadata": {},
   "outputs": [
    {
     "data": {
      "text/plain": [
       "['2', '4', '16']"
      ]
     },
     "execution_count": 127,
     "metadata": {},
     "output_type": "execute_result"
    }
   ],
   "source": [
    "s.split()"
   ]
  },
  {
   "cell_type": "code",
   "execution_count": 128,
   "id": "f3fca1b0-72eb-4dd4-99f4-58d0b902cb55",
   "metadata": {},
   "outputs": [
    {
     "data": {
      "text/plain": [
       "'2 4 16'"
      ]
     },
     "execution_count": 128,
     "metadata": {},
     "output_type": "execute_result"
    }
   ],
   "source": [
    "s"
   ]
  },
  {
   "cell_type": "code",
   "execution_count": 129,
   "id": "2153a92c-2c4d-4938-84f9-1facdda7f351",
   "metadata": {},
   "outputs": [
    {
     "ename": "TypeError",
     "evalue": "'str' object does not support item assignment",
     "output_type": "error",
     "traceback": [
      "\u001b[1;31m---------------------------------------------------------------------------\u001b[0m",
      "\u001b[1;31mTypeError\u001b[0m                                 Traceback (most recent call last)",
      "Cell \u001b[1;32mIn[129], line 1\u001b[0m\n\u001b[1;32m----> 1\u001b[0m s[\u001b[38;5;241m0\u001b[39m] \u001b[38;5;241m=\u001b[39m \u001b[38;5;124m'\u001b[39m\u001b[38;5;124mp\u001b[39m\u001b[38;5;124m'\u001b[39m\n",
      "\u001b[1;31mTypeError\u001b[0m: 'str' object does not support item assignment"
     ]
    }
   ],
   "source": [
    "s[0] = 'p'"
   ]
  },
  {
   "cell_type": "code",
   "execution_count": 151,
   "id": "19d48e3f-781c-4eb2-8e9c-afc23b094033",
   "metadata": {},
   "outputs": [
    {
     "data": {
      "text/plain": [
       "2824923192592"
      ]
     },
     "execution_count": 151,
     "metadata": {},
     "output_type": "execute_result"
    }
   ],
   "source": [
    "s = '2 4 16'\n",
    "id(s)"
   ]
  },
  {
   "cell_type": "code",
   "execution_count": 152,
   "id": "41bd2c83-0a09-4c81-a1e3-1b400b3e6ec9",
   "metadata": {},
   "outputs": [
    {
     "data": {
      "text/plain": [
       "2824890521360"
      ]
     },
     "execution_count": 152,
     "metadata": {},
     "output_type": "execute_result"
    }
   ],
   "source": [
    "s = 'p 4 16'\n",
    "id(s)"
   ]
  },
  {
   "cell_type": "markdown",
   "id": "81530762-65f9-453c-ba62-c01fb5eaf73e",
   "metadata": {},
   "source": [
    "## Tuples\n",
    "\n",
    "A tuple is a sequence of **arbitrary objects** separated by commas and enclosed in parentheses."
   ]
  },
  {
   "cell_type": "code",
   "execution_count": 154,
   "id": "cbcce80b-9ecd-4542-81dc-d939e87bf871",
   "metadata": {},
   "outputs": [],
   "source": [
    "x = (2,)"
   ]
  },
  {
   "cell_type": "code",
   "execution_count": 155,
   "id": "983e893e-1865-4a33-b37b-9d42927c2027",
   "metadata": {},
   "outputs": [
    {
     "data": {
      "text/plain": [
       "tuple"
      ]
     },
     "execution_count": 155,
     "metadata": {},
     "output_type": "execute_result"
    }
   ],
   "source": [
    "type(x)"
   ]
  },
  {
   "cell_type": "markdown",
   "id": "bad06638-9bb6-4fd6-8587-e52bf445bf30",
   "metadata": {},
   "source": [
    "Tuples support the same operations are strings, they are immutable."
   ]
  },
  {
   "cell_type": "code",
   "execution_count": 157,
   "id": "251f6634-c60e-4ef8-aef1-d4d4f545d677",
   "metadata": {},
   "outputs": [
    {
     "data": {
      "text/plain": [
       "tuple"
      ]
     },
     "execution_count": 157,
     "metadata": {},
     "output_type": "execute_result"
    }
   ],
   "source": [
    "record = 'Musk','Elon',(8,10,1968)  # This is a tuple packing operation\n",
    "type(record)"
   ]
  },
  {
   "cell_type": "code",
   "execution_count": 158,
   "id": "5a796e88-af3a-4402-a166-1d05c5b3af4e",
   "metadata": {},
   "outputs": [
    {
     "data": {
      "text/plain": [
       "3"
      ]
     },
     "execution_count": 158,
     "metadata": {},
     "output_type": "execute_result"
    }
   ],
   "source": [
    "len(record)"
   ]
  },
  {
   "cell_type": "code",
   "execution_count": 159,
   "id": "6ac786b3-52ea-46d0-8f0e-b664227cd387",
   "metadata": {},
   "outputs": [
    {
     "data": {
      "text/plain": [
       "'Musk'"
      ]
     },
     "execution_count": 159,
     "metadata": {},
     "output_type": "execute_result"
    }
   ],
   "source": [
    "record[0]"
   ]
  },
  {
   "cell_type": "code",
   "execution_count": 160,
   "id": "8f4b8c8b-615b-4912-a6da-2d2a2fa190a8",
   "metadata": {},
   "outputs": [
    {
     "data": {
      "text/plain": [
       "'Elon'"
      ]
     },
     "execution_count": 160,
     "metadata": {},
     "output_type": "execute_result"
    }
   ],
   "source": [
    "record[1]"
   ]
  },
  {
   "cell_type": "code",
   "execution_count": 161,
   "id": "4573fb99-c64e-4fea-a52d-a14a39cb1be3",
   "metadata": {},
   "outputs": [
    {
     "data": {
      "text/plain": [
       "(8, 10, 1968)"
      ]
     },
     "execution_count": 161,
     "metadata": {},
     "output_type": "execute_result"
    }
   ],
   "source": [
    "record[2]"
   ]
  },
  {
   "cell_type": "code",
   "execution_count": 162,
   "id": "7668f982-0dcf-4093-8b71-73220e35e457",
   "metadata": {},
   "outputs": [],
   "source": [
    "lastname, firstname, birthdate = record # Unpacking a tuple"
   ]
  },
  {
   "cell_type": "code",
   "execution_count": 163,
   "id": "9095b168-ef2c-4861-95dd-9320db9dfae1",
   "metadata": {},
   "outputs": [
    {
     "data": {
      "text/plain": [
       "'Elon'"
      ]
     },
     "execution_count": 163,
     "metadata": {},
     "output_type": "execute_result"
    }
   ],
   "source": [
    "firstname"
   ]
  },
  {
   "cell_type": "code",
   "execution_count": 164,
   "id": "23c24c2d-774c-4929-a407-ff294a0b78b9",
   "metadata": {},
   "outputs": [
    {
     "data": {
      "text/plain": [
       "'Musk'"
      ]
     },
     "execution_count": 164,
     "metadata": {},
     "output_type": "execute_result"
    }
   ],
   "source": [
    "lastname"
   ]
  },
  {
   "cell_type": "code",
   "execution_count": 165,
   "id": "2bd6faf9-50ab-4293-8593-1687430de3cc",
   "metadata": {},
   "outputs": [
    {
     "data": {
      "text/plain": [
       "(8, 10, 1968)"
      ]
     },
     "execution_count": 165,
     "metadata": {},
     "output_type": "execute_result"
    }
   ],
   "source": [
    "birthdate"
   ]
  },
  {
   "cell_type": "code",
   "execution_count": 166,
   "id": "a4cd2ee4-6cd6-4be9-a709-2cb7e7531d62",
   "metadata": {},
   "outputs": [
    {
     "data": {
      "text/plain": [
       "tuple"
      ]
     },
     "execution_count": 166,
     "metadata": {},
     "output_type": "execute_result"
    }
   ],
   "source": [
    "type(birthdate)"
   ]
  },
  {
   "cell_type": "code",
   "execution_count": 167,
   "id": "e949852b-1ee8-43ad-9ad0-93c6a06ea9d4",
   "metadata": {},
   "outputs": [],
   "source": [
    "birthyear = birthdate[2]"
   ]
  },
  {
   "cell_type": "code",
   "execution_count": 168,
   "id": "727c8d02-7946-430e-aa8f-f9d1974c655b",
   "metadata": {},
   "outputs": [
    {
     "data": {
      "text/plain": [
       "1968"
      ]
     },
     "execution_count": 168,
     "metadata": {},
     "output_type": "execute_result"
    }
   ],
   "source": [
    "birthyear"
   ]
  },
  {
   "cell_type": "code",
   "execution_count": 169,
   "id": "9723f2ee-d770-41b7-ba16-9fdb7c451155",
   "metadata": {},
   "outputs": [
    {
     "name": "stdout",
     "output_type": "stream",
     "text": [
      "Help on class tuple in module builtins:\n",
      "\n",
      "class tuple(object)\n",
      " |  tuple(iterable=(), /)\n",
      " |\n",
      " |  Built-in immutable sequence.\n",
      " |\n",
      " |  If no argument is given, the constructor returns an empty tuple.\n",
      " |  If iterable is specified the tuple is initialized from iterable's items.\n",
      " |\n",
      " |  If the argument is a tuple, the return value is the same object.\n",
      " |\n",
      " |  Built-in subclasses:\n",
      " |      asyncgen_hooks\n",
      " |      MonthDayNano\n",
      " |      UnraisableHookArgs\n",
      " |\n",
      " |  Methods defined here:\n",
      " |\n",
      " |  __add__(self, value, /)\n",
      " |      Return self+value.\n",
      " |\n",
      " |  __contains__(self, key, /)\n",
      " |      Return bool(key in self).\n",
      " |\n",
      " |  __eq__(self, value, /)\n",
      " |      Return self==value.\n",
      " |\n",
      " |  __ge__(self, value, /)\n",
      " |      Return self>=value.\n",
      " |\n",
      " |  __getattribute__(self, name, /)\n",
      " |      Return getattr(self, name).\n",
      " |\n",
      " |  __getitem__(self, key, /)\n",
      " |      Return self[key].\n",
      " |\n",
      " |  __getnewargs__(self, /)\n",
      " |\n",
      " |  __gt__(self, value, /)\n",
      " |      Return self>value.\n",
      " |\n",
      " |  __hash__(self, /)\n",
      " |      Return hash(self).\n",
      " |\n",
      " |  __iter__(self, /)\n",
      " |      Implement iter(self).\n",
      " |\n",
      " |  __le__(self, value, /)\n",
      " |      Return self<=value.\n",
      " |\n",
      " |  __len__(self, /)\n",
      " |      Return len(self).\n",
      " |\n",
      " |  __lt__(self, value, /)\n",
      " |      Return self<value.\n",
      " |\n",
      " |  __mul__(self, value, /)\n",
      " |      Return self*value.\n",
      " |\n",
      " |  __ne__(self, value, /)\n",
      " |      Return self!=value.\n",
      " |\n",
      " |  __repr__(self, /)\n",
      " |      Return repr(self).\n",
      " |\n",
      " |  __rmul__(self, value, /)\n",
      " |      Return value*self.\n",
      " |\n",
      " |  count(self, value, /)\n",
      " |      Return number of occurrences of value.\n",
      " |\n",
      " |  index(self, value, start=0, stop=9223372036854775807, /)\n",
      " |      Return first index of value.\n",
      " |\n",
      " |      Raises ValueError if the value is not present.\n",
      " |\n",
      " |  ----------------------------------------------------------------------\n",
      " |  Class methods defined here:\n",
      " |\n",
      " |  __class_getitem__(...)\n",
      " |      See PEP 585\n",
      " |\n",
      " |  ----------------------------------------------------------------------\n",
      " |  Static methods defined here:\n",
      " |\n",
      " |  __new__(*args, **kwargs)\n",
      " |      Create and return a new object.  See help(type) for accurate signature.\n",
      "\n"
     ]
    }
   ],
   "source": [
    "help(tuple)"
   ]
  },
  {
   "cell_type": "code",
   "execution_count": 170,
   "id": "a408eab1-e69e-45b9-90d1-4efccb9efe26",
   "metadata": {},
   "outputs": [
    {
     "data": {
      "text/plain": [
       "1"
      ]
     },
     "execution_count": 170,
     "metadata": {},
     "output_type": "execute_result"
    }
   ],
   "source": [
    "record.count('Elon')"
   ]
  },
  {
   "cell_type": "code",
   "execution_count": 171,
   "id": "75dde4b6-ccd6-4fa2-8656-811302fd4f94",
   "metadata": {},
   "outputs": [],
   "source": [
    "num_tuple = 1,2,2,3,3,3,4,4,4,4"
   ]
  },
  {
   "cell_type": "code",
   "execution_count": 172,
   "id": "df54c738-1fd9-465c-948e-61ca2e29820f",
   "metadata": {},
   "outputs": [
    {
     "data": {
      "text/plain": [
       "3"
      ]
     },
     "execution_count": 172,
     "metadata": {},
     "output_type": "execute_result"
    }
   ],
   "source": [
    "num_tuple.count(3)"
   ]
  },
  {
   "cell_type": "code",
   "execution_count": 173,
   "id": "d03a06d7-c1ce-4ac8-aa3b-f1d4fd1ff3c4",
   "metadata": {},
   "outputs": [
    {
     "data": {
      "text/plain": [
       "0"
      ]
     },
     "execution_count": 173,
     "metadata": {},
     "output_type": "execute_result"
    }
   ],
   "source": [
    "num_tuple.count(5)"
   ]
  },
  {
   "cell_type": "code",
   "execution_count": 174,
   "id": "14a8d5c0-7460-494e-8ab7-d79bf49ba99f",
   "metadata": {},
   "outputs": [
    {
     "data": {
      "text/plain": [
       "3"
      ]
     },
     "execution_count": 174,
     "metadata": {},
     "output_type": "execute_result"
    }
   ],
   "source": [
    "num_tuple.index(3)"
   ]
  },
  {
   "cell_type": "code",
   "execution_count": 175,
   "id": "a99cc6cb-ce5f-46a6-a4a8-9a0dc6a8f672",
   "metadata": {},
   "outputs": [
    {
     "data": {
      "text/plain": [
       "6"
      ]
     },
     "execution_count": 175,
     "metadata": {},
     "output_type": "execute_result"
    }
   ],
   "source": [
    "num_tuple.index(4)"
   ]
  },
  {
   "cell_type": "code",
   "execution_count": 176,
   "id": "4269a4db-5977-465d-8d18-5ec1b1874a2e",
   "metadata": {},
   "outputs": [
    {
     "data": {
      "text/plain": [
       "('Musk', 'Elon', (8, 10, 1968))"
      ]
     },
     "execution_count": 176,
     "metadata": {},
     "output_type": "execute_result"
    }
   ],
   "source": [
    "record"
   ]
  },
  {
   "cell_type": "code",
   "execution_count": 177,
   "id": "b903ad5a-0d5b-45b7-9670-431ab41f4214",
   "metadata": {},
   "outputs": [
    {
     "ename": "TypeError",
     "evalue": "'tuple' object does not support item assignment",
     "output_type": "error",
     "traceback": [
      "\u001b[1;31m---------------------------------------------------------------------------\u001b[0m",
      "\u001b[1;31mTypeError\u001b[0m                                 Traceback (most recent call last)",
      "Cell \u001b[1;32mIn[177], line 1\u001b[0m\n\u001b[1;32m----> 1\u001b[0m record[\u001b[38;5;241m1\u001b[39m] \u001b[38;5;241m=\u001b[39m \u001b[38;5;124m'\u001b[39m\u001b[38;5;124mJensen\u001b[39m\u001b[38;5;124m'\u001b[39m\n",
      "\u001b[1;31mTypeError\u001b[0m: 'tuple' object does not support item assignment"
     ]
    }
   ],
   "source": [
    "record[1] = 'Jensen'"
   ]
  },
  {
   "cell_type": "markdown",
   "id": "9f604aaf-06e1-4ee4-9187-7958dd23b3be",
   "metadata": {},
   "source": [
    "## Lists\n",
    "\n",
    "A list is similar to a tuple, but it is a **mutable**, so that its elements and length can be changed. A list is identified by enclosing it in square brackets []."
   ]
  },
  {
   "cell_type": "code",
   "execution_count": 185,
   "id": "40234987-9d22-4091-aad8-d8255720a212",
   "metadata": {},
   "outputs": [],
   "source": [
    "a = [1,2,2,3,3,3,4,4,4,4] # Create a list"
   ]
  },
  {
   "cell_type": "code",
   "execution_count": 186,
   "id": "e443011f-05d9-4573-a802-650d856f1aca",
   "metadata": {},
   "outputs": [
    {
     "data": {
      "text/plain": [
       "list"
      ]
     },
     "execution_count": 186,
     "metadata": {},
     "output_type": "execute_result"
    }
   ],
   "source": [
    "type(a)"
   ]
  },
  {
   "cell_type": "code",
   "execution_count": 187,
   "id": "b76a7910-3096-4b87-959b-070328f76cf3",
   "metadata": {},
   "outputs": [],
   "source": [
    "list1 = [1.0,2.0,3.0]"
   ]
  },
  {
   "cell_type": "code",
   "execution_count": 188,
   "id": "2875565a-6325-47fc-9978-f794d1907148",
   "metadata": {},
   "outputs": [
    {
     "data": {
      "text/plain": [
       "3"
      ]
     },
     "execution_count": 188,
     "metadata": {},
     "output_type": "execute_result"
    }
   ],
   "source": [
    "len(list1)"
   ]
  },
  {
   "cell_type": "code",
   "execution_count": 189,
   "id": "d3552944-d768-46dc-95db-3a27fba8dea2",
   "metadata": {},
   "outputs": [
    {
     "name": "stdout",
     "output_type": "stream",
     "text": [
      "Help on class list in module builtins:\n",
      "\n",
      "class list(object)\n",
      " |  list(iterable=(), /)\n",
      " |\n",
      " |  Built-in mutable sequence.\n",
      " |\n",
      " |  If no argument is given, the constructor creates a new empty list.\n",
      " |  The argument must be an iterable if specified.\n",
      " |\n",
      " |  Methods defined here:\n",
      " |\n",
      " |  __add__(self, value, /)\n",
      " |      Return self+value.\n",
      " |\n",
      " |  __contains__(self, key, /)\n",
      " |      Return bool(key in self).\n",
      " |\n",
      " |  __delitem__(self, key, /)\n",
      " |      Delete self[key].\n",
      " |\n",
      " |  __eq__(self, value, /)\n",
      " |      Return self==value.\n",
      " |\n",
      " |  __ge__(self, value, /)\n",
      " |      Return self>=value.\n",
      " |\n",
      " |  __getattribute__(self, name, /)\n",
      " |      Return getattr(self, name).\n",
      " |\n",
      " |  __getitem__(self, index, /)\n",
      " |      Return self[index].\n",
      " |\n",
      " |  __gt__(self, value, /)\n",
      " |      Return self>value.\n",
      " |\n",
      " |  __iadd__(self, value, /)\n",
      " |      Implement self+=value.\n",
      " |\n",
      " |  __imul__(self, value, /)\n",
      " |      Implement self*=value.\n",
      " |\n",
      " |  __init__(self, /, *args, **kwargs)\n",
      " |      Initialize self.  See help(type(self)) for accurate signature.\n",
      " |\n",
      " |  __iter__(self, /)\n",
      " |      Implement iter(self).\n",
      " |\n",
      " |  __le__(self, value, /)\n",
      " |      Return self<=value.\n",
      " |\n",
      " |  __len__(self, /)\n",
      " |      Return len(self).\n",
      " |\n",
      " |  __lt__(self, value, /)\n",
      " |      Return self<value.\n",
      " |\n",
      " |  __mul__(self, value, /)\n",
      " |      Return self*value.\n",
      " |\n",
      " |  __ne__(self, value, /)\n",
      " |      Return self!=value.\n",
      " |\n",
      " |  __repr__(self, /)\n",
      " |      Return repr(self).\n",
      " |\n",
      " |  __reversed__(self, /)\n",
      " |      Return a reverse iterator over the list.\n",
      " |\n",
      " |  __rmul__(self, value, /)\n",
      " |      Return value*self.\n",
      " |\n",
      " |  __setitem__(self, key, value, /)\n",
      " |      Set self[key] to value.\n",
      " |\n",
      " |  __sizeof__(self, /)\n",
      " |      Return the size of the list in memory, in bytes.\n",
      " |\n",
      " |  append(self, object, /)\n",
      " |      Append object to the end of the list.\n",
      " |\n",
      " |  clear(self, /)\n",
      " |      Remove all items from list.\n",
      " |\n",
      " |  copy(self, /)\n",
      " |      Return a shallow copy of the list.\n",
      " |\n",
      " |  count(self, value, /)\n",
      " |      Return number of occurrences of value.\n",
      " |\n",
      " |  extend(self, iterable, /)\n",
      " |      Extend list by appending elements from the iterable.\n",
      " |\n",
      " |  index(self, value, start=0, stop=9223372036854775807, /)\n",
      " |      Return first index of value.\n",
      " |\n",
      " |      Raises ValueError if the value is not present.\n",
      " |\n",
      " |  insert(self, index, object, /)\n",
      " |      Insert object before index.\n",
      " |\n",
      " |  pop(self, index=-1, /)\n",
      " |      Remove and return item at index (default last).\n",
      " |\n",
      " |      Raises IndexError if list is empty or index is out of range.\n",
      " |\n",
      " |  remove(self, value, /)\n",
      " |      Remove first occurrence of value.\n",
      " |\n",
      " |      Raises ValueError if the value is not present.\n",
      " |\n",
      " |  reverse(self, /)\n",
      " |      Reverse *IN PLACE*.\n",
      " |\n",
      " |  sort(self, /, *, key=None, reverse=False)\n",
      " |      Sort the list in ascending order and return None.\n",
      " |\n",
      " |      The sort is in-place (i.e. the list itself is modified) and stable (i.e. the\n",
      " |      order of two equal elements is maintained).\n",
      " |\n",
      " |      If a key function is given, apply it once to each list item and sort them,\n",
      " |      ascending or descending, according to their function values.\n",
      " |\n",
      " |      The reverse flag can be set to sort in descending order.\n",
      " |\n",
      " |  ----------------------------------------------------------------------\n",
      " |  Class methods defined here:\n",
      " |\n",
      " |  __class_getitem__(...)\n",
      " |      See PEP 585\n",
      " |\n",
      " |  ----------------------------------------------------------------------\n",
      " |  Static methods defined here:\n",
      " |\n",
      " |  __new__(*args, **kwargs)\n",
      " |      Create and return a new object.  See help(type) for accurate signature.\n",
      " |\n",
      " |  ----------------------------------------------------------------------\n",
      " |  Data and other attributes defined here:\n",
      " |\n",
      " |  __hash__ = None\n",
      "\n"
     ]
    }
   ],
   "source": [
    "help(list)"
   ]
  },
  {
   "cell_type": "code",
   "execution_count": 190,
   "id": "d59481da-a361-4ab7-b821-bc9a6422239e",
   "metadata": {},
   "outputs": [
    {
     "data": {
      "text/plain": [
       "[1.0, 2.0, 3.0, 4.0]"
      ]
     },
     "execution_count": 190,
     "metadata": {},
     "output_type": "execute_result"
    }
   ],
   "source": [
    "list1 = [1.0,2.0,3.0]\n",
    "list1.append(4.0)  # Append 4.0 to list\n",
    "list1"
   ]
  },
  {
   "cell_type": "code",
   "execution_count": 191,
   "id": "4bc8994c-5d1b-45ba-9b79-c1820ad0b811",
   "metadata": {},
   "outputs": [
    {
     "data": {
      "text/plain": [
       "[0.0, 1.0, 2.0, 3.0, 4.0]"
      ]
     },
     "execution_count": 191,
     "metadata": {},
     "output_type": "execute_result"
    }
   ],
   "source": [
    "list1.insert(0,0.0) # Insert 0.0 in position 0\n",
    "list1"
   ]
  },
  {
   "cell_type": "code",
   "execution_count": 192,
   "id": "8897edd9-72a3-4bea-b942-002226efc2e6",
   "metadata": {},
   "outputs": [
    {
     "data": {
      "text/plain": [
       "5"
      ]
     },
     "execution_count": 192,
     "metadata": {},
     "output_type": "execute_result"
    }
   ],
   "source": [
    "len(list1) # Determine length of list"
   ]
  },
  {
   "cell_type": "code",
   "execution_count": 193,
   "id": "ae1cd2de-72d4-430b-b71f-0661f8c6f79d",
   "metadata": {},
   "outputs": [],
   "source": [
    "# Modify selected elements of a list using slicing operation\n",
    "list1[2:4] = [1.5,2.5]"
   ]
  },
  {
   "cell_type": "code",
   "execution_count": 194,
   "id": "7586e628-e779-4614-996e-0b0eb85860f1",
   "metadata": {},
   "outputs": [
    {
     "data": {
      "text/plain": [
       "[0.0, 1.0, 1.5, 2.5, 4.0]"
      ]
     },
     "execution_count": 194,
     "metadata": {},
     "output_type": "execute_result"
    }
   ],
   "source": [
    "list1"
   ]
  },
  {
   "cell_type": "code",
   "execution_count": 195,
   "id": "6f447d6f-04e2-4c72-a66f-b8ef6e402dd0",
   "metadata": {},
   "outputs": [
    {
     "data": {
      "text/plain": [
       "(1, 2, 2, 3, 3, 3, 4, 4, 4, 4)"
      ]
     },
     "execution_count": 195,
     "metadata": {},
     "output_type": "execute_result"
    }
   ],
   "source": [
    "num_tuple"
   ]
  },
  {
   "cell_type": "code",
   "execution_count": 196,
   "id": "b072d336-f1fa-4b28-ac92-952f87bcdb6e",
   "metadata": {},
   "outputs": [
    {
     "data": {
      "text/plain": [
       "('Musk', 'Elon', (8, 10, 1968))"
      ]
     },
     "execution_count": 196,
     "metadata": {},
     "output_type": "execute_result"
    }
   ],
   "source": [
    "record"
   ]
  },
  {
   "cell_type": "code",
   "execution_count": 197,
   "id": "85f58924-1e50-4dd1-8cae-d9ad84dd91dc",
   "metadata": {},
   "outputs": [],
   "source": [
    "record_list = []\n",
    "firstname, lastname, birthyear = record\n",
    "record_list.append(firstname)\n",
    "record_list.append(lastname)\n",
    "record_list.append(birthyear)"
   ]
  },
  {
   "cell_type": "code",
   "execution_count": 198,
   "id": "0cf17121-7522-411c-87c3-d7abbb509a18",
   "metadata": {},
   "outputs": [
    {
     "data": {
      "text/plain": [
       "['Musk', 'Elon', (8, 10, 1968)]"
      ]
     },
     "execution_count": 198,
     "metadata": {},
     "output_type": "execute_result"
    }
   ],
   "source": [
    "record_list = []\n",
    "for x in record:\n",
    "    record_list.append(x)\n",
    "record_list"
   ]
  },
  {
   "cell_type": "code",
   "execution_count": 199,
   "id": "2d4bc514-fffe-4bfb-9a36-f33e384b4688",
   "metadata": {},
   "outputs": [
    {
     "data": {
      "text/plain": [
       "['Musk', 'Elon', (8, 10, 1968)]"
      ]
     },
     "execution_count": 199,
     "metadata": {},
     "output_type": "execute_result"
    }
   ],
   "source": [
    "record_list[1] = record[1]\n",
    "record_list"
   ]
  },
  {
   "cell_type": "code",
   "execution_count": 200,
   "id": "bd77a1b9-90b2-4627-bc1c-a25dd6384fb3",
   "metadata": {},
   "outputs": [],
   "source": [
    "a = [1.0,2.0,3.0]\n",
    "b = a "
   ]
  },
  {
   "cell_type": "code",
   "execution_count": 201,
   "id": "9067fc4f-13e4-44d0-a18a-d18ca16a0d16",
   "metadata": {},
   "outputs": [
    {
     "data": {
      "text/plain": [
       "[1.0, 2.0, 3.0]"
      ]
     },
     "execution_count": 201,
     "metadata": {},
     "output_type": "execute_result"
    }
   ],
   "source": [
    "a"
   ]
  },
  {
   "cell_type": "code",
   "execution_count": 202,
   "id": "51123387-64cd-44bc-bf53-097887413ac9",
   "metadata": {},
   "outputs": [
    {
     "data": {
      "text/plain": [
       "[1.0, 2.0, 3.0]"
      ]
     },
     "execution_count": 202,
     "metadata": {},
     "output_type": "execute_result"
    }
   ],
   "source": [
    "b"
   ]
  },
  {
   "cell_type": "code",
   "execution_count": 203,
   "id": "ebaa6dc7-3cf4-463e-864e-75ea0a43b045",
   "metadata": {},
   "outputs": [
    {
     "name": "stdout",
     "output_type": "stream",
     "text": [
      "2\n",
      "3\n"
     ]
    }
   ],
   "source": [
    "x = 2\n",
    "y = x # y contains a copy of the value stored in x\n",
    "x = 3\n",
    "print(y)\n",
    "print(x)"
   ]
  },
  {
   "cell_type": "code",
   "execution_count": 204,
   "id": "28719a19-1d8d-4680-b80a-064dca7e7998",
   "metadata": {},
   "outputs": [
    {
     "data": {
      "text/plain": [
       "[1.0, 2.0, 3.0]"
      ]
     },
     "execution_count": 204,
     "metadata": {},
     "output_type": "execute_result"
    }
   ],
   "source": [
    "a"
   ]
  },
  {
   "cell_type": "code",
   "execution_count": 205,
   "id": "b8c8c6fe-b695-48c9-9258-3a72f7cb91bd",
   "metadata": {},
   "outputs": [
    {
     "data": {
      "text/plain": [
       "[1.0, 2.0, 3.0]"
      ]
     },
     "execution_count": 205,
     "metadata": {},
     "output_type": "execute_result"
    }
   ],
   "source": [
    "b"
   ]
  },
  {
   "cell_type": "code",
   "execution_count": 206,
   "id": "491419b3-cec7-4017-bb9b-ab8f1efbac52",
   "metadata": {},
   "outputs": [],
   "source": [
    "b[0] = 5.0 # Change b"
   ]
  },
  {
   "cell_type": "code",
   "execution_count": 207,
   "id": "41d6291a-03af-4e8e-9c88-463eee4dc684",
   "metadata": {},
   "outputs": [
    {
     "data": {
      "text/plain": [
       "[5.0, 2.0, 3.0]"
      ]
     },
     "execution_count": 207,
     "metadata": {},
     "output_type": "execute_result"
    }
   ],
   "source": [
    "b"
   ]
  },
  {
   "cell_type": "code",
   "execution_count": 208,
   "id": "c3b5d048-0afd-496a-b50b-063719e072d9",
   "metadata": {},
   "outputs": [
    {
     "data": {
      "text/plain": [
       "[5.0, 2.0, 3.0]"
      ]
     },
     "execution_count": 208,
     "metadata": {},
     "output_type": "execute_result"
    }
   ],
   "source": [
    "a"
   ]
  },
  {
   "cell_type": "markdown",
   "id": "a02d5964-5ea1-4ae8-a6a9-b5d5bd7824d2",
   "metadata": {},
   "source": [
    "If **a** is a mutable, such as a list, the assignment statement **b = a** does not resut in a new object **b**, but simply creates a new reference/alias to **a**. Thus any changes made to **b** will be reflected in **a**.\n",
    "\n",
    "**Note** : To create an independent copy of list **a**, use the statement c = a[:] as shown below,"
   ]
  },
  {
   "cell_type": "code",
   "execution_count": 210,
   "id": "4e2a9151-90cc-47f3-b6ac-11afad58f69e",
   "metadata": {},
   "outputs": [
    {
     "data": {
      "text/plain": [
       "[5.0, 2.0, 3.0]"
      ]
     },
     "execution_count": 210,
     "metadata": {},
     "output_type": "execute_result"
    }
   ],
   "source": [
    "a"
   ]
  },
  {
   "cell_type": "code",
   "execution_count": 211,
   "id": "63da4599-d2a3-419e-a4d3-60d44288dcc9",
   "metadata": {},
   "outputs": [],
   "source": [
    "c = a[:] # 'c' is an independent copy of a"
   ]
  },
  {
   "cell_type": "code",
   "execution_count": 212,
   "id": "e370c8ac-0ca7-4255-bbc0-365718b0600e",
   "metadata": {},
   "outputs": [
    {
     "data": {
      "text/plain": [
       "[5.0, 2.0, 3.0]"
      ]
     },
     "execution_count": 212,
     "metadata": {},
     "output_type": "execute_result"
    }
   ],
   "source": [
    "c"
   ]
  },
  {
   "cell_type": "code",
   "execution_count": 213,
   "id": "e25ce01b-b448-4cfc-87a9-491c385dc802",
   "metadata": {},
   "outputs": [
    {
     "data": {
      "text/plain": [
       "[5.0, 2.0, 3.0]"
      ]
     },
     "execution_count": 213,
     "metadata": {},
     "output_type": "execute_result"
    }
   ],
   "source": [
    "a"
   ]
  },
  {
   "cell_type": "code",
   "execution_count": 214,
   "id": "2aed63ac-1edb-4912-a0a7-57c87399b10d",
   "metadata": {},
   "outputs": [],
   "source": [
    "c[0] = 1.0"
   ]
  },
  {
   "cell_type": "code",
   "execution_count": 215,
   "id": "d8304dc0-b185-48ad-bc5b-9837b7c006b0",
   "metadata": {},
   "outputs": [
    {
     "data": {
      "text/plain": [
       "[1.0, 2.0, 3.0]"
      ]
     },
     "execution_count": 215,
     "metadata": {},
     "output_type": "execute_result"
    }
   ],
   "source": [
    "c"
   ]
  },
  {
   "cell_type": "code",
   "execution_count": 216,
   "id": "c98e6bb0-c489-4d89-bea3-f0b0d7e4fb1b",
   "metadata": {},
   "outputs": [
    {
     "data": {
      "text/plain": [
       "[5.0, 2.0, 3.0]"
      ]
     },
     "execution_count": 216,
     "metadata": {},
     "output_type": "execute_result"
    }
   ],
   "source": [
    "a # a is not affected by the change in c"
   ]
  },
  {
   "cell_type": "markdown",
   "id": "ca656bbc-1540-4e22-a59e-48715a5aca90",
   "metadata": {},
   "source": [
    "## Arithmetic Operators\n",
    "\n",
    "+ Addition, +\n",
    "+ Subtraction, -\n",
    "+ Mutliplication, *\n",
    "+ Floating point division, /\n",
    "+ Integer division, //\n",
    "+ Exponentiation, **\n",
    "+ Modular Division, %"
   ]
  },
  {
   "cell_type": "code",
   "execution_count": 250,
   "id": "494920c7-bd7d-4bf5-a289-6827ecf6a5fa",
   "metadata": {},
   "outputs": [
    {
     "data": {
      "text/plain": [
       "5"
      ]
     },
     "execution_count": 250,
     "metadata": {},
     "output_type": "execute_result"
    }
   ],
   "source": [
    "2 + 3"
   ]
  },
  {
   "cell_type": "code",
   "execution_count": 252,
   "id": "3f1ef2f4-1c1a-4674-90f4-571fce5ba094",
   "metadata": {},
   "outputs": [
    {
     "data": {
      "text/plain": [
       "-1"
      ]
     },
     "execution_count": 252,
     "metadata": {},
     "output_type": "execute_result"
    }
   ],
   "source": [
    "2 - 3"
   ]
  },
  {
   "cell_type": "code",
   "execution_count": 254,
   "id": "88a565f1-8ad5-4123-ac42-5a3f13fa761b",
   "metadata": {},
   "outputs": [
    {
     "data": {
      "text/plain": [
       "6"
      ]
     },
     "execution_count": 254,
     "metadata": {},
     "output_type": "execute_result"
    }
   ],
   "source": [
    "2 * 3"
   ]
  },
  {
   "cell_type": "code",
   "execution_count": 256,
   "id": "338b59e8-b597-4f40-8baa-c89f90dc5fc9",
   "metadata": {},
   "outputs": [
    {
     "data": {
      "text/plain": [
       "0.6666666666666666"
      ]
     },
     "execution_count": 256,
     "metadata": {},
     "output_type": "execute_result"
    }
   ],
   "source": [
    "2 / 3"
   ]
  },
  {
   "cell_type": "code",
   "execution_count": 258,
   "id": "76cdf551-88b5-41d8-9491-f155a09207a7",
   "metadata": {},
   "outputs": [
    {
     "data": {
      "text/plain": [
       "0"
      ]
     },
     "execution_count": 258,
     "metadata": {},
     "output_type": "execute_result"
    }
   ],
   "source": [
    "2 // 3"
   ]
  },
  {
   "cell_type": "code",
   "execution_count": 260,
   "id": "861e3a59-4a16-4240-ae6e-86bbbdd87f6b",
   "metadata": {},
   "outputs": [
    {
     "data": {
      "text/plain": [
       "1"
      ]
     },
     "execution_count": 260,
     "metadata": {},
     "output_type": "execute_result"
    }
   ],
   "source": [
    "5 // 3"
   ]
  },
  {
   "cell_type": "code",
   "execution_count": 262,
   "id": "4aea9c9c-de8c-4eb4-9082-d510cbcd09c3",
   "metadata": {},
   "outputs": [
    {
     "data": {
      "text/plain": [
       "1.6666666666666667"
      ]
     },
     "execution_count": 262,
     "metadata": {},
     "output_type": "execute_result"
    }
   ],
   "source": [
    "5 / 3"
   ]
  },
  {
   "cell_type": "code",
   "execution_count": 265,
   "id": "79c18edc-ec4c-4bbb-9f9d-babbeb841b23",
   "metadata": {},
   "outputs": [
    {
     "data": {
      "text/plain": [
       "8"
      ]
     },
     "execution_count": 265,
     "metadata": {},
     "output_type": "execute_result"
    }
   ],
   "source": [
    "2**3"
   ]
  },
  {
   "cell_type": "code",
   "execution_count": 267,
   "id": "cf01643f-f9e4-468e-a40a-50e7e18c9c4b",
   "metadata": {},
   "outputs": [
    {
     "data": {
      "text/plain": [
       "2"
      ]
     },
     "execution_count": 267,
     "metadata": {},
     "output_type": "execute_result"
    }
   ],
   "source": [
    "5 % 3"
   ]
  },
  {
   "cell_type": "markdown",
   "id": "0076fdfc-9300-4b40-92a1-114cc38f2ef4",
   "metadata": {},
   "source": [
    "+ x % y - the remainder when x is divided by y\n",
    "+ x // y - quotient when x is divided by y"
   ]
  },
  {
   "cell_type": "code",
   "execution_count": 271,
   "id": "afcf3230-70f4-42a8-a05b-41f12a779647",
   "metadata": {},
   "outputs": [
    {
     "data": {
      "text/plain": [
       "1"
      ]
     },
     "execution_count": 271,
     "metadata": {},
     "output_type": "execute_result"
    }
   ],
   "source": [
    "5 // 3 # quotient "
   ]
  },
  {
   "cell_type": "code",
   "execution_count": 273,
   "id": "7db9c7a6-4d9a-47ca-8e19-861761836f3e",
   "metadata": {},
   "outputs": [
    {
     "data": {
      "text/plain": [
       "2"
      ]
     },
     "execution_count": 273,
     "metadata": {},
     "output_type": "execute_result"
    }
   ],
   "source": [
    "5 % 3 # remainder"
   ]
  },
  {
   "cell_type": "code",
   "execution_count": 275,
   "id": "4b97c79b-1235-43fb-94de-dbaa90c1972f",
   "metadata": {},
   "outputs": [
    {
     "data": {
      "text/plain": [
       "1.6666666666666667"
      ]
     },
     "execution_count": 275,
     "metadata": {},
     "output_type": "execute_result"
    }
   ],
   "source": [
    "5 / 3 # real value / floating point value"
   ]
  },
  {
   "cell_type": "markdown",
   "id": "dea6b58e-7cc2-4f3b-b098-9ff6b152c2b4",
   "metadata": {},
   "source": [
    "Some of these operators are also defined for strings, sequences (lists):"
   ]
  },
  {
   "cell_type": "code",
   "execution_count": 278,
   "id": "fe119766-72fa-45ac-b0a5-1a8a6881acc3",
   "metadata": {},
   "outputs": [],
   "source": [
    "string1 = 'CFD'\n",
    "string2 = ' with Python'"
   ]
  },
  {
   "cell_type": "code",
   "execution_count": 280,
   "id": "8c048ccd-b09f-4d50-afda-47276ad6282e",
   "metadata": {},
   "outputs": [
    {
     "data": {
      "text/plain": [
       "'CFD with Python'"
      ]
     },
     "execution_count": 280,
     "metadata": {},
     "output_type": "execute_result"
    }
   ],
   "source": [
    "string1 + string2"
   ]
  },
  {
   "cell_type": "code",
   "execution_count": 282,
   "id": "c2ec74d1-f73d-41c0-910d-9a4f1141dc5f",
   "metadata": {},
   "outputs": [
    {
     "data": {
      "text/plain": [
       "'CFDCFDCFD'"
      ]
     },
     "execution_count": 282,
     "metadata": {},
     "output_type": "execute_result"
    }
   ],
   "source": [
    "string1*3 # Repitition"
   ]
  },
  {
   "cell_type": "code",
   "execution_count": 284,
   "id": "5d0d9722-8d0f-4832-a6d8-c8fda71ddc80",
   "metadata": {},
   "outputs": [
    {
     "data": {
      "text/plain": [
       "'CFD CFD CFD '"
      ]
     },
     "execution_count": 284,
     "metadata": {},
     "output_type": "execute_result"
    }
   ],
   "source": [
    "'CFD ' * 3"
   ]
  },
  {
   "cell_type": "code",
   "execution_count": 286,
   "id": "2caad879-b126-4324-8ccf-00f04915982e",
   "metadata": {},
   "outputs": [
    {
     "data": {
      "text/plain": [
       "[1, 2, 3, 1, 2, 3, 1, 2, 3]"
      ]
     },
     "execution_count": 286,
     "metadata": {},
     "output_type": "execute_result"
    }
   ],
   "source": [
    "my_list = [1,2,3]\n",
    "my_list * 3 # Repitition"
   ]
  },
  {
   "cell_type": "code",
   "execution_count": 288,
   "id": "5af6b5ca-7013-42b5-9d86-968083aaad72",
   "metadata": {},
   "outputs": [
    {
     "data": {
      "text/plain": [
       "[[1, 2, 3], [1, 2, 3], [1, 2, 3]]"
      ]
     },
     "execution_count": 288,
     "metadata": {},
     "output_type": "execute_result"
    }
   ],
   "source": [
    "another_list = [[1,2,3]]\n",
    "another_list*3"
   ]
  },
  {
   "cell_type": "code",
   "execution_count": 290,
   "id": "5dacf9b9-1148-4b4a-8d5d-68f00e4ecce2",
   "metadata": {},
   "outputs": [
    {
     "name": "stdout",
     "output_type": "stream",
     "text": [
      "C++\n",
      "2024\n",
      "Python\n",
      "3.12\n",
      "Java123\n",
      "4.3\n"
     ]
    }
   ],
   "source": [
    "mixed_list = ['C++', 2024, 'Python', 3.12, 'Java123', 4.3]\n",
    "for elem in mixed_list:\n",
    "    print(elem)"
   ]
  },
  {
   "cell_type": "code",
   "execution_count": 292,
   "id": "6d2798d6-f631-4c0a-96b6-b3809babd356",
   "metadata": {},
   "outputs": [],
   "source": [
    "nested_list = [[1,2,3],[4,5,6],[7,8,9]]"
   ]
  },
  {
   "cell_type": "code",
   "execution_count": 294,
   "id": "00931338-70b2-4a83-9cc6-4d88f87b4daa",
   "metadata": {},
   "outputs": [
    {
     "data": {
      "text/plain": [
       "[[1, 2, 3], [4, 5, 6], [7, 8, 9]]"
      ]
     },
     "execution_count": 294,
     "metadata": {},
     "output_type": "execute_result"
    }
   ],
   "source": [
    "nested_list"
   ]
  },
  {
   "cell_type": "code",
   "execution_count": 296,
   "id": "307ce5ce-7de4-44b7-a527-f019c70c159d",
   "metadata": {},
   "outputs": [
    {
     "data": {
      "text/plain": [
       "[1, 2, 3]"
      ]
     },
     "execution_count": 296,
     "metadata": {},
     "output_type": "execute_result"
    }
   ],
   "source": [
    "nested_list[0]"
   ]
  },
  {
   "cell_type": "code",
   "execution_count": 298,
   "id": "e124a43c-87d7-4b60-9da8-3316c1717a50",
   "metadata": {},
   "outputs": [
    {
     "data": {
      "text/plain": [
       "[4, 5, 6]"
      ]
     },
     "execution_count": 298,
     "metadata": {},
     "output_type": "execute_result"
    }
   ],
   "source": [
    "nested_list[1]"
   ]
  },
  {
   "cell_type": "code",
   "execution_count": 300,
   "id": "702cb24e-f917-48f4-ba92-ee114166b310",
   "metadata": {},
   "outputs": [
    {
     "data": {
      "text/plain": [
       "[7, 8, 9]"
      ]
     },
     "execution_count": 300,
     "metadata": {},
     "output_type": "execute_result"
    }
   ],
   "source": [
    "nested_list[2]"
   ]
  },
  {
   "cell_type": "code",
   "execution_count": 302,
   "id": "ff5ea477-4ba6-43df-b91a-dffe18556add",
   "metadata": {},
   "outputs": [
    {
     "data": {
      "text/plain": [
       "[1, 2, 3, 1, 2, 3, 1, 2, 3]"
      ]
     },
     "execution_count": 302,
     "metadata": {},
     "output_type": "execute_result"
    }
   ],
   "source": [
    "[1,2,3]*3"
   ]
  },
  {
   "cell_type": "code",
   "execution_count": 304,
   "id": "af145ee4-e230-4239-820e-ce3ede9ce418",
   "metadata": {},
   "outputs": [
    {
     "data": {
      "text/plain": [
       "[1, 2, 3, 4, 5, 1, 2, 3, 4, 5, 1, 2, 3, 4, 5, 1, 2, 3, 4, 5, 1, 2, 3, 4, 5]"
      ]
     },
     "execution_count": 304,
     "metadata": {},
     "output_type": "execute_result"
    }
   ],
   "source": [
    "my_list = [1,2,3,4,5]\n",
    "my_val = 5\n",
    "my_list * 5"
   ]
  },
  {
   "cell_type": "code",
   "execution_count": 308,
   "id": "4a253f23-03a6-450a-aa6b-cd7cbc7dce8f",
   "metadata": {},
   "outputs": [
    {
     "name": "stdout",
     "output_type": "stream",
     "text": [
      "5\n",
      "10\n",
      "15\n",
      "20\n",
      "25\n"
     ]
    }
   ],
   "source": [
    "for elem in my_list:\n",
    "    print(elem * 5)"
   ]
  },
  {
   "cell_type": "code",
   "execution_count": 312,
   "id": "c2587faf-4cc8-43e5-aa97-7609099c22a8",
   "metadata": {},
   "outputs": [
    {
     "data": {
      "text/plain": [
       "[5, 10, 15, 20, 25]"
      ]
     },
     "execution_count": 312,
     "metadata": {},
     "output_type": "execute_result"
    }
   ],
   "source": [
    "my_list = [5*elem for elem in my_list] # List comprehension\n",
    "my_list"
   ]
  },
  {
   "cell_type": "markdown",
   "id": "4fc9cf8b-8346-448e-93cb-003458b32c77",
   "metadata": {},
   "source": [
    "## Comparison Operators\n",
    "\n",
    "**Note** : The comparison (relational) operators return **True** or **False**\n",
    "\n",
    "+ Less than, <\n",
    "+ Greather than, >\n",
    "+ Less than or equal to, <=\n",
    "+ Greater than or equal to, >=\n",
    "+ Equal to, ==\n",
    "+ Not equal to, !="
   ]
  },
  {
   "cell_type": "code",
   "execution_count": 315,
   "id": "03dc6aa7-542c-4063-bda0-c1bceb4962f5",
   "metadata": {},
   "outputs": [
    {
     "data": {
      "text/plain": [
       "True"
      ]
     },
     "execution_count": 315,
     "metadata": {},
     "output_type": "execute_result"
    }
   ],
   "source": [
    "a = 2\n",
    "b = 1.99\n",
    "a > b"
   ]
  },
  {
   "cell_type": "code",
   "execution_count": 317,
   "id": "ee87e7bd-39e9-4dde-a272-f79bf0b670bf",
   "metadata": {},
   "outputs": [],
   "source": [
    "c = '2'"
   ]
  },
  {
   "cell_type": "code",
   "execution_count": 319,
   "id": "029f26fc-5a16-4787-ac85-5e1856519660",
   "metadata": {},
   "outputs": [
    {
     "data": {
      "text/plain": [
       "False"
      ]
     },
     "execution_count": 319,
     "metadata": {},
     "output_type": "execute_result"
    }
   ],
   "source": [
    "a == c"
   ]
  },
  {
   "cell_type": "code",
   "execution_count": 321,
   "id": "95712b43-51bc-481a-995b-571070a5f53e",
   "metadata": {},
   "outputs": [
    {
     "data": {
      "text/plain": [
       "3"
      ]
     },
     "execution_count": 321,
     "metadata": {},
     "output_type": "execute_result"
    }
   ],
   "source": [
    "a = 2 # This is an assignment operator, assign the object 2 to variable 'a'\n",
    "a += 1 # Reassignment\n",
    "a"
   ]
  },
  {
   "cell_type": "code",
   "execution_count": 323,
   "id": "bb97d584-b7ac-48b9-8434-1b3c5313920b",
   "metadata": {},
   "outputs": [
    {
     "data": {
      "text/plain": [
       "True"
      ]
     },
     "execution_count": 323,
     "metadata": {},
     "output_type": "execute_result"
    }
   ],
   "source": [
    "a == 3 # Check for equality"
   ]
  },
  {
   "cell_type": "code",
   "execution_count": 325,
   "id": "33f51fb7-c8c9-4b3d-aac4-ed7283491cd3",
   "metadata": {},
   "outputs": [
    {
     "data": {
      "text/plain": [
       "False"
      ]
     },
     "execution_count": 325,
     "metadata": {},
     "output_type": "execute_result"
    }
   ],
   "source": [
    "a == 2"
   ]
  },
  {
   "cell_type": "code",
   "execution_count": 327,
   "id": "c20fdac4-e61b-4f5a-915e-592caf290f04",
   "metadata": {},
   "outputs": [
    {
     "data": {
      "text/plain": [
       "True"
      ]
     },
     "execution_count": 327,
     "metadata": {},
     "output_type": "execute_result"
    }
   ],
   "source": [
    "(a>b) and (a!=c)"
   ]
  },
  {
   "cell_type": "code",
   "execution_count": 329,
   "id": "75df26fc-e5e6-45ac-a3e7-0ee87e920812",
   "metadata": {},
   "outputs": [
    {
     "data": {
      "text/plain": [
       "True"
      ]
     },
     "execution_count": 329,
     "metadata": {},
     "output_type": "execute_result"
    }
   ],
   "source": [
    "a>b # 2>1.99"
   ]
  },
  {
   "cell_type": "code",
   "execution_count": 331,
   "id": "22cd956a-15da-4b37-a962-28afc3dc9461",
   "metadata": {},
   "outputs": [
    {
     "data": {
      "text/plain": [
       "True"
      ]
     },
     "execution_count": 331,
     "metadata": {},
     "output_type": "execute_result"
    }
   ],
   "source": [
    "a!=c # 2 is not equal to '2'"
   ]
  },
  {
   "cell_type": "code",
   "execution_count": 333,
   "id": "30de1e76-0e60-4aba-a72b-ac0242cc27e0",
   "metadata": {},
   "outputs": [
    {
     "data": {
      "text/plain": [
       "True"
      ]
     },
     "execution_count": 333,
     "metadata": {},
     "output_type": "execute_result"
    }
   ],
   "source": [
    "True and True"
   ]
  },
  {
   "cell_type": "code",
   "execution_count": 335,
   "id": "9dfaf46a-e8c5-4afa-bddd-70e4e815f99a",
   "metadata": {},
   "outputs": [
    {
     "data": {
      "text/plain": [
       "False"
      ]
     },
     "execution_count": 335,
     "metadata": {},
     "output_type": "execute_result"
    }
   ],
   "source": [
    "a>b and a==b"
   ]
  },
  {
   "cell_type": "markdown",
   "id": "77253ea9-4da7-41c6-a306-8f388d5dfa82",
   "metadata": {},
   "source": [
    "## Conditionals"
   ]
  },
  {
   "cell_type": "code",
   "execution_count": 338,
   "id": "f72c905a-0aab-4f7c-8fd3-73c9f56bebf5",
   "metadata": {},
   "outputs": [],
   "source": [
    "def sign_of_x(x):\n",
    "    if x < 0.0:  # Go inside if-block when condition is True\n",
    "        # if-block statements\n",
    "        sign = 'negative'\n",
    "    elif x > 0.0: # Go inside elif-block when condition is True\n",
    "        sign = 'positive'\n",
    "    elif:\n",
    "        pass\n",
    "    elif:\n",
    "        pass\n",
    "    else:\n",
    "        sign = 'zero'\n",
    "    return sign"
   ]
  },
  {
   "cell_type": "code",
   "execution_count": 342,
   "id": "d2098d41-b736-476d-b0f7-342fce4c4cfd",
   "metadata": {},
   "outputs": [
    {
     "name": "stdout",
     "output_type": "stream",
     "text": [
      "a is positive\n"
     ]
    }
   ],
   "source": [
    "a = 1.5\n",
    "print(f'a is {sign_of_x(a)}')"
   ]
  },
  {
   "cell_type": "code",
   "execution_count": 348,
   "id": "02ece040-8a1f-4d34-b48d-53805a303524",
   "metadata": {},
   "outputs": [
    {
     "name": "stdout",
     "output_type": "stream",
     "text": [
      "a is zero\n"
     ]
    }
   ],
   "source": [
    "a = 0.\n",
    "if a > 0.0:\n",
    "    print('a is positive')\n",
    "elif a < 0.0:\n",
    "    print('a is negative')\n",
    "else:\n",
    "    print('a is zero')"
   ]
  },
  {
   "cell_type": "code",
   "execution_count": 352,
   "id": "e8c0160e-5f04-49d6-b138-83811aaa5302",
   "metadata": {},
   "outputs": [
    {
     "name": "stdout",
     "output_type": "stream",
     "text": [
      "a is negative\n"
     ]
    }
   ],
   "source": [
    "a = -1.5\n",
    "if a > 0.0:\n",
    "    print('a is positive')\n",
    "else:\n",
    "    print('a is negative')"
   ]
  },
  {
   "cell_type": "code",
   "execution_count": 356,
   "id": "ba7c953f-921c-4402-91f2-0d76b3cf00ff",
   "metadata": {},
   "outputs": [
    {
     "name": "stdout",
     "output_type": "stream",
     "text": [
      "negative\n"
     ]
    }
   ],
   "source": [
    "# Calling a function\n",
    "#function(input_argument)\n",
    "function_output = sign_of_x(-4.5)\n",
    "print(function_output)"
   ]
  },
  {
   "cell_type": "markdown",
   "id": "063059cc-2b9c-4c49-b3aa-dcc40e73977e",
   "metadata": {},
   "source": [
    "## Loops\n",
    "+ while loops\n",
    "+ for loops"
   ]
  },
  {
   "cell_type": "code",
   "execution_count": 365,
   "id": "3956442a-a891-4413-a04a-723e542af501",
   "metadata": {},
   "outputs": [
    {
     "name": "stdout",
     "output_type": "stream",
     "text": [
      "[1.0, 0.5, 0.3333333333333333, 0.25]\n"
     ]
    }
   ],
   "source": [
    "nMax = 5\n",
    "n = 1\n",
    "a = []  # Create an empty list\n",
    "while n < nMax:\n",
    "    a.append(1/n) # Append element t list\n",
    "    n += 1  # Incrementing n by 1 for each iteration\n",
    "\n",
    "print(a)"
   ]
  },
  {
   "cell_type": "code",
   "execution_count": 373,
   "id": "78349254-ce9d-477b-afcc-6ea4c86fce63",
   "metadata": {},
   "outputs": [
    {
     "name": "stdout",
     "output_type": "stream",
     "text": [
      "[1.0, 0.5, 0.3333333333333333, 0.25]\n"
     ]
    }
   ],
   "source": [
    "nMax = 5\n",
    "a = []\n",
    "for n in range(1,nMax): # range creates an iterator object\n",
    "    a.append(1/n)\n",
    "print(a)"
   ]
  },
  {
   "cell_type": "code",
   "execution_count": 375,
   "id": "ccf69fab-3a32-4166-b6fd-2e9106c6b050",
   "metadata": {},
   "outputs": [
    {
     "data": {
      "text/plain": [
       "range(1, 5)"
      ]
     },
     "execution_count": 375,
     "metadata": {},
     "output_type": "execute_result"
    }
   ],
   "source": []
  },
  {
   "cell_type": "code",
   "execution_count": 381,
   "id": "1b9b9784-6580-4c2c-9ad6-3e961b951152",
   "metadata": {},
   "outputs": [],
   "source": [
    "import numpy as np"
   ]
  },
  {
   "cell_type": "code",
   "execution_count": 383,
   "id": "fe1b7af2-cb97-4d21-9498-3287a2ad2164",
   "metadata": {},
   "outputs": [
    {
     "data": {
      "text/plain": [
       "array([1. , 1.5, 2. , 2.5])"
      ]
     },
     "execution_count": 383,
     "metadata": {},
     "output_type": "execute_result"
    }
   ],
   "source": [
    "np.arange(1,3,0.5)"
   ]
  },
  {
   "cell_type": "code",
   "execution_count": 387,
   "id": "3d4431a3-0e2a-4c52-98e0-3333e924973f",
   "metadata": {},
   "outputs": [
    {
     "name": "stdout",
     "output_type": "stream",
     "text": [
      "[7, 14, 21, 28, 35, 42, 49, 56, 63, 70, 77, 84, 91, 98]\n"
     ]
    }
   ],
   "source": [
    "x = []  # Create an empty list\n",
    "for i in range(1,100):\n",
    "    if i%7 != 0:\n",
    "        continue  # If i is not divisible by 7, skip the rest of the loop\n",
    "    x.append(i)\n",
    "print(x)"
   ]
  },
  {
   "cell_type": "code",
   "execution_count": 389,
   "id": "b36d69b0-6896-43f1-bcf2-6d8929003ef3",
   "metadata": {},
   "outputs": [
    {
     "data": {
      "text/plain": [
       "[7, 14, 21, 28, 35, 42, 49, 56, 63, 70, 77, 84, 91, 98]"
      ]
     },
     "execution_count": 389,
     "metadata": {},
     "output_type": "execute_result"
    }
   ],
   "source": [
    "x"
   ]
  },
  {
   "cell_type": "code",
   "execution_count": 391,
   "id": "0bba50b5-fec7-4017-a04e-c583445f2a66",
   "metadata": {},
   "outputs": [
    {
     "data": {
      "text/plain": [
       "True"
      ]
     },
     "execution_count": 391,
     "metadata": {},
     "output_type": "execute_result"
    }
   ],
   "source": [
    "search_value = 49\n",
    "search_value in x"
   ]
  },
  {
   "cell_type": "code",
   "execution_count": 393,
   "id": "0ef3cd08-2e12-4cfd-a300-132347c48a27",
   "metadata": {},
   "outputs": [
    {
     "data": {
      "text/plain": [
       "True"
      ]
     },
     "execution_count": 393,
     "metadata": {},
     "output_type": "execute_result"
    }
   ],
   "source": [
    "56 in x"
   ]
  },
  {
   "cell_type": "code",
   "execution_count": 395,
   "id": "8b5abb10-07c2-48f1-a60a-9b71dc801003",
   "metadata": {},
   "outputs": [
    {
     "name": "stdout",
     "output_type": "stream",
     "text": [
      "28\n"
     ]
    }
   ],
   "source": [
    "search_value = 28\n",
    "for elem in x:\n",
    "    if elem == search_value:\n",
    "        print(elem)"
   ]
  },
  {
   "cell_type": "code",
   "execution_count": null,
   "id": "8cd2442c-e1ba-4ae0-9ef5-1bfda25492b0",
   "metadata": {},
   "outputs": [],
   "source": []
  },
  {
   "cell_type": "markdown",
   "id": "d821be8b-7ce0-4c8e-ab53-a0dc81b6d00f",
   "metadata": {},
   "source": [
    "search_value = 28\n",
    "for i in range(len(x)):\n",
    "    if x[i] == search_value:\n",
    "        print(f\"Index : {i}, element = {x[i]}\")"
   ]
  },
  {
   "cell_type": "markdown",
   "id": "1cae5ff8-edb3-46c6-a297-815a998c866f",
   "metadata": {},
   "source": [
    "## Dictionary\n",
    "\n",
    "It is a data structure that has two entities:\n",
    "+ key\n",
    "+ value"
   ]
  },
  {
   "cell_type": "code",
   "execution_count": 410,
   "id": "3a878896-869d-41a6-a272-82bf4b33233d",
   "metadata": {},
   "outputs": [],
   "source": [
    "fluid_properties = {'density' : [1000,1500], 'viscosity' : 170, 'Temperature' : 373, 'Pressure':100}"
   ]
  },
  {
   "cell_type": "code",
   "execution_count": 418,
   "id": "c62ca2ff-cce4-4ee6-a7e7-e94ef00f5efb",
   "metadata": {},
   "outputs": [
    {
     "data": {
      "text/plain": [
       "[1000, 1500]"
      ]
     },
     "execution_count": 418,
     "metadata": {},
     "output_type": "execute_result"
    }
   ],
   "source": [
    "fluid_properties['density']"
   ]
  },
  {
   "cell_type": "code",
   "execution_count": 420,
   "id": "d3daa88e-2e23-40be-984a-d25dafdfc023",
   "metadata": {},
   "outputs": [
    {
     "data": {
      "text/plain": [
       "170"
      ]
     },
     "execution_count": 420,
     "metadata": {},
     "output_type": "execute_result"
    }
   ],
   "source": [
    "fluid_properties['viscosity']"
   ]
  },
  {
   "cell_type": "code",
   "execution_count": null,
   "id": "ad8e562a-0f9e-4091-a79f-27d650af9439",
   "metadata": {},
   "outputs": [],
   "source": []
  },
  {
   "cell_type": "code",
   "execution_count": 412,
   "id": "ad11878c-1ab0-4751-a69f-f7f7e3cbf41c",
   "metadata": {},
   "outputs": [
    {
     "name": "stdout",
     "output_type": "stream",
     "text": [
      "Key : density, Value :[1000, 1500]\n",
      "Key : viscosity, Value :170\n",
      "Key : Temperature, Value :373\n",
      "Key : Pressure, Value :100\n"
     ]
    }
   ],
   "source": [
    "for key, val in fluid_properties.items():\n",
    "    print(f\"Key : {key}, Value :{val}\")"
   ]
  },
  {
   "cell_type": "markdown",
   "id": "0d58e590-6ed6-4533-9346-dcf067ef6526",
   "metadata": {},
   "source": [
    "## Hamiz Question\n",
    "How to find duplicate occureneces in a tuple with their indices?"
   ]
  },
  {
   "cell_type": "code",
   "execution_count": 416,
   "id": "1dcb437c-7c34-4e09-a1f6-c1ad05fb7026",
   "metadata": {},
   "outputs": [],
   "source": [
    "example_tuple = 1,3,5,3,7,8,1,5,9,5"
   ]
  },
  {
   "cell_type": "code",
   "execution_count": 422,
   "id": "5d00a699-6596-4ad3-afc4-42a03ef2f940",
   "metadata": {},
   "outputs": [],
   "source": [
    "def find_duplicates_and_indices(input_tuple):\n",
    "    # Dictionary to hold the element as key and list of indices as value\n",
    "    occurences = {}  # Create an empty dictionary\n",
    "\n",
    "    # Traverse the tuple and populate the dictionary\n",
    "    for index, elem in enumerate(input_tuple):\n",
    "        if elem in occurences:\n",
    "            occurences[elem].append(index)\n",
    "        else:\n",
    "            occurences[elem] = [index]\n",
    "\n",
    "    # Filter out elements that have only one occurence\n",
    "    duplicates = {key: value for key, value in occurences.items() if len(value)>1}\n",
    "    return duplicates"
   ]
  },
  {
   "cell_type": "code",
   "execution_count": 424,
   "id": "1c900f7c-0906-4f7e-90f0-aa1a8dc9ac93",
   "metadata": {},
   "outputs": [],
   "source": [
    "duplicates_with_indices = find_duplicates_and_indices(example_tuple)"
   ]
  },
  {
   "cell_type": "code",
   "execution_count": 426,
   "id": "f100f04d-47a8-46c3-9cb7-d2a42eff25eb",
   "metadata": {},
   "outputs": [
    {
     "name": "stdout",
     "output_type": "stream",
     "text": [
      "Element : 1, Indices: [0, 6]\n",
      "Element : 3, Indices: [1, 3]\n",
      "Element : 5, Indices: [2, 7, 9]\n"
     ]
    }
   ],
   "source": [
    "for elem, indices in duplicates_with_indices.items():\n",
    "    print(f\"Element : {elem}, Indices: {indices}\")"
   ]
  },
  {
   "cell_type": "code",
   "execution_count": null,
   "id": "f278380a-b5f4-49b7-9c14-7af18adab0b6",
   "metadata": {},
   "outputs": [],
   "source": []
  }
 ],
 "metadata": {
  "kernelspec": {
   "display_name": "Python 3 (ipykernel)",
   "language": "python",
   "name": "python3"
  },
  "language_info": {
   "codemirror_mode": {
    "name": "ipython",
    "version": 3
   },
   "file_extension": ".py",
   "mimetype": "text/x-python",
   "name": "python",
   "nbconvert_exporter": "python",
   "pygments_lexer": "ipython3",
   "version": "3.12.4"
  }
 },
 "nbformat": 4,
 "nbformat_minor": 5
}
