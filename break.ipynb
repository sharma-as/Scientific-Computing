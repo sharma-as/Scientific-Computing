{
 "cells": [
  {
   "cell_type": "code",
   "execution_count": 1,
   "metadata": {},
   "outputs": [
    {
     "name": "stdout",
     "output_type": "stream",
     "text": [
      "The sum of the numbers entered is: 9.0\n"
     ]
    }
   ],
   "source": [
    "def sum_of_numbers():\n",
    "    numbers = []\n",
    "    while True:\n",
    "        num = float(input(\"Enter a number (enter 0 to stop): \"))\n",
    "        if num == 0:\n",
    "            break\n",
    "        numbers.append(num)\n",
    "    \n",
    "    total_sum = sum(numbers)\n",
    "    print(f\"The sum of the numbers entered is: {total_sum}\")\n",
    "\n",
    "# Run the function\n",
    "sum_of_numbers()"
   ]
  },
  {
   "cell_type": "code",
   "execution_count": 3,
   "metadata": {},
   "outputs": [
    {
     "name": "stdout",
     "output_type": "stream",
     "text": [
      "2\n",
      "4\n",
      "6\n",
      "8\n",
      "12\n",
      "14\n",
      "16\n",
      "18\n",
      "20\n"
     ]
    }
   ],
   "source": [
    "for number in range(1, 21):\n",
    "    if number == 10:\n",
    "        continue\n",
    "    if number % 2 == 0:\n",
    "        print(number)"
   ]
  },
  {
   "cell_type": "code",
   "execution_count": 4,
   "metadata": {},
   "outputs": [
    {
     "name": "stdout",
     "output_type": "stream",
     "text": [
      "The area of a circle with radius 1 is: 3.14\n",
      "The area of a circle with radius 3 is: 28.27\n",
      "The area of a circle with radius 5 is: 78.54\n",
      "The area of a circle with radius 7 is: 153.94\n"
     ]
    }
   ],
   "source": [
    "import math\n",
    "\n",
    "def calculate_area(radius):\n",
    "    return math.pi * radius ** 2\n",
    "\n",
    "# Test the function with different radius values\n",
    "radii = [1, 3, 5, 7]\n",
    "\n",
    "for r in radii:\n",
    "    area = calculate_area(r)\n",
    "    print(f\"The area of a circle with radius {r} is: {area:.2f}\")"
   ]
  },
  {
   "cell_type": "code",
   "execution_count": 6,
   "metadata": {},
   "outputs": [
    {
     "name": "stdout",
     "output_type": "stream",
     "text": [
      "'racecar' is a palindrome: True\n",
      "'hello' is a palindrome: False\n",
      "'madam' is a palindrome: True\n",
      "'Was it a car or a cat I saw' is a palindrome: True\n",
      "'not a palindrome' is a palindrome: False\n"
     ]
    }
   ],
   "source": [
    "def is_palindrome(s):\n",
    "    # Remove spaces and convert to lowercase for a case-insensitive check\n",
    "    s = s.replace(\" \", \"\").lower()\n",
    "    # Check if the string is equal to its reverse\n",
    "    return s == s[::-1]\n",
    "\n",
    "# Test cases\n",
    "test_strings = [\n",
    "    \"racecar\",\n",
    "    \"hello\",\n",
    "    \"madam\",\n",
    "    \"Was it a car or a cat I saw\",\n",
    "    \"not a palindrome\"\n",
    "]\n",
    "\n",
    "# Check each string and print the result\n",
    "for s in test_strings:\n",
    "    result = is_palindrome(s)\n",
    "    print(f\"'{s}' is a palindrome: {result}\")"
   ]
  },
  {
   "cell_type": "code",
   "execution_count": 7,
   "metadata": {},
   "outputs": [
    {
     "name": "stdout",
     "output_type": "stream",
     "text": [
      "Volume of box with Length = 3, Width = 4, Height = 5 is 60.00 cubic units.\n",
      "Volume of box with Length = 10, Width = 2, Height = 8 is 160.00 cubic units.\n",
      "Volume of box with Length = 7.5, Width = 3.2, Height = 4.1 is 98.40 cubic units.\n",
      "Volume of box with Length = 1, Width = 1, Height = 1 is 1.00 cubic units.\n",
      "Volume of box with Length = 0, Width = 5, Height = 7 is 0.00 cubic units.\n"
     ]
    }
   ],
   "source": [
    "def calculate_volume(length, width, height):\n",
    "    \"\"\"\n",
    "    Calculate the volume of a rectangular box.\n",
    "    \n",
    "    Parameters:\n",
    "    length (float): The length of the box.\n",
    "    width (float): The width of the box.\n",
    "    height (float): The height of the box.\n",
    "    \n",
    "    Returns:\n",
    "    float: The volume of the box.\n",
    "    \"\"\"\n",
    "    return length * width * height\n",
    "\n",
    "# Test cases\n",
    "dimensions = [\n",
    "    (3, 4, 5),  # Length = 3, Width = 4, Height = 5\n",
    "    (10, 2, 8), # Length = 10, Width = 2, Height = 8\n",
    "    (7.5, 3.2, 4.1), # Length = 7.5, Width = 3.2, Height = 4.1\n",
    "    (1, 1, 1),  # Length = 1, Width = 1, Height = 1\n",
    "    (0, 5, 7),  # Length = 0, Width = 5, Height = 7 (expect volume = 0)\n",
    "]\n",
    "\n",
    "# Calculate and print the volume for each set of dimensions\n",
    "for length, width, height in dimensions:\n",
    "    volume = calculate_volume(length, width, height)\n",
    "    print(f\"Volume of box with Length = {length}, Width = {width}, Height = {height} is {volume:.2f} cubic units.\")"
   ]
  }
 ],
 "metadata": {
  "kernelspec": {
   "display_name": ".venv",
   "language": "python",
   "name": "python3"
  },
  "language_info": {
   "codemirror_mode": {
    "name": "ipython",
    "version": 3
   },
   "file_extension": ".py",
   "mimetype": "text/x-python",
   "name": "python",
   "nbconvert_exporter": "python",
   "pygments_lexer": "ipython3",
   "version": "3.9.6"
  }
 },
 "nbformat": 4,
 "nbformat_minor": 2
}
